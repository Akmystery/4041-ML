{
 "cells": [
  {
   "cell_type": "code",
   "execution_count": 120,
   "metadata": {},
   "outputs": [],
   "source": [
    "from datetime import date, timedelta\n",
    "import pandas as pd\n",
    "import numpy as np\n",
    "from sklearn.metrics import mean_squared_error\n",
    "from statsmodels.tsa.arima_model import ARIMA\n",
    "import matplotlib as plp\n",
    "import lightgbm as lgb"
   ]
  },
  {
   "cell_type": "code",
   "execution_count": 92,
   "metadata": {},
   "outputs": [],
   "source": [
    "df_train = pd.read_csv(\n",
    "    '../Data/train_set_long.csv', usecols=[1, 2, 3, 4],\n",
    "    dtype={'onpromotion': bool},\n",
    "    converters={'unit_sales': lambda u: np.log1p(\n",
    "        float(u)) if float(u) > 0 else 0},\n",
    "    parse_dates=[\"date\"]\n",
    ")"
   ]
  },
  {
   "cell_type": "code",
   "execution_count": 93,
   "metadata": {},
   "outputs": [],
   "source": [
    "df_test = pd.read_csv(\n",
    "    \"../Data/test.csv\", usecols=[0, 1, 2, 3, 4],\n",
    "    dtype={'onpromotion': bool},\n",
    "    parse_dates=[\"date\"]  # , date_parser=parser\n",
    ").set_index(\n",
    "    ['store_nbr', 'item_nbr', 'date']\n",
    ")"
   ]
  },
  {
   "cell_type": "code",
   "execution_count": 94,
   "metadata": {},
   "outputs": [],
   "source": [
    "df_val = pd.read_csv(\n",
    "    '../Data/train_set_short.csv', usecols=[1, 2, 3, 4],\n",
    "    dtype={'onpromotion': bool},\n",
    "    converters={'unit_sales': lambda u: np.log1p(\n",
    "        float(u)) if float(u) > 0 else 0},\n",
    "    parse_dates=[\"date\"]\n",
    ")"
   ]
  },
  {
   "cell_type": "code",
   "execution_count": 123,
   "metadata": {},
   "outputs": [],
   "source": [
    "items = pd.read_csv(\n",
    "    \"../Data/items.csv\",\n",
    ").set_index(\"item_nbr\")"
   ]
  },
  {
   "cell_type": "code",
   "execution_count": 95,
   "metadata": {},
   "outputs": [],
   "source": [
    "df_train = df_train.set_index(\n",
    "    [\"store_nbr\", \"item_nbr\", \"date\"])[[\"unit_sales\"]].unstack(\n",
    "        level=-1).fillna(0)"
   ]
  },
  {
   "cell_type": "code",
   "execution_count": 96,
   "metadata": {},
   "outputs": [],
   "source": [
    "df_val = df_val.set_index(\n",
    "    [\"store_nbr\", \"item_nbr\", \"date\"])[[\"unit_sales\"]].unstack(\n",
    "        level=-1).fillna(0)"
   ]
  },
  {
   "cell_type": "code",
   "execution_count": 97,
   "metadata": {},
   "outputs": [],
   "source": [
    "df_train.columns = df_train.columns.get_level_values(1)\n",
    "df_val.columns = df_val.columns.get_level_values(1)"
   ]
  },
  {
   "cell_type": "code",
   "execution_count": 98,
   "metadata": {},
   "outputs": [],
   "source": [
    "def get_timespan(df, dt, minus, periods):\n",
    "    return df[\n",
    "        pd.date_range(dt - timedelta(days=minus), periods=periods)\n",
    "    ]"
   ]
  },
  {
   "cell_type": "code",
   "execution_count": 105,
   "metadata": {},
   "outputs": [],
   "source": [
    "def prepare_dataset(t2017, is_train=True):\n",
    "    X = pd.DataFrame({\n",
    "        \"mean_3_2017\": get_timespan(df_train, t2017, 3, 3).mean(axis=1).values,\n",
    "        \"mean_7_2017\": get_timespan(df_train, t2017, 7, 7).mean(axis=1).values,\n",
    "    })\n",
    "    if is_train:\n",
    "        y = df_train[\n",
    "            pd.date_range(t2017, periods=16)\n",
    "        ].values\n",
    "        return X, y\n",
    "    return X"
   ]
  },
  {
   "cell_type": "code",
   "execution_count": 106,
   "metadata": {},
   "outputs": [
    {
     "name": "stdout",
     "output_type": "stream",
     "text": [
      "Preparing dataset...\n"
     ]
    }
   ],
   "source": [
    "print(\"Preparing dataset...\")\n",
    "t2017 = date(2017, 6, 20)\n",
    "X_l, y_l = [], []\n",
    "for i in range(4):\n",
    "    delta = timedelta(days=7 * i)\n",
    "    X_tmp, y_tmp = prepare_dataset(\n",
    "        t2017 + delta\n",
    "    )\n",
    "    X_l.append(X_tmp)\n",
    "    y_l.append(y_tmp)\n",
    "X_train = pd.concat(X_l, axis=0)\n",
    "y_train = np.concatenate(y_l, axis=0)\n",
    "del X_l, y_l"
   ]
  },
  {
   "cell_type": "code",
   "execution_count": 129,
   "metadata": {},
   "outputs": [
    {
     "data": {
      "text/plain": [
       "(618140, 2)"
      ]
     },
     "execution_count": 129,
     "metadata": {},
     "output_type": "execute_result"
    }
   ],
   "source": [
    "X_train.shape"
   ]
  },
  {
   "cell_type": "code",
   "execution_count": 108,
   "metadata": {},
   "outputs": [
    {
     "data": {
      "text/plain": [
       "(154535, 57)"
      ]
     },
     "execution_count": 108,
     "metadata": {},
     "output_type": "execute_result"
    }
   ],
   "source": [
    "df_train.shape"
   ]
  },
  {
   "cell_type": "code",
   "execution_count": 130,
   "metadata": {},
   "outputs": [
    {
     "data": {
      "text/plain": [
       "(618140, 16)"
      ]
     },
     "execution_count": 130,
     "metadata": {},
     "output_type": "execute_result"
    }
   ],
   "source": [
    "y_train.shape"
   ]
  },
  {
   "cell_type": "code",
   "execution_count": 111,
   "metadata": {},
   "outputs": [
    {
     "name": "stdout",
     "output_type": "stream",
     "text": [
      "Training and predicting models...\n"
     ]
    }
   ],
   "source": [
    "print(\"Training and predicting models...\")\n",
    "params = {\n",
    "    'num_leaves': 2**5 - 1,\n",
    "    'objective': 'regression_l2',\n",
    "    'max_depth': 8,\n",
    "    'min_data_in_leaf': 50,\n",
    "    'learning_rate': 0.05,\n",
    "    'feature_fraction': 0.75,\n",
    "    'bagging_fraction': 0.75,\n",
    "    'bagging_freq': 1,\n",
    "    'metric': 'l2',\n",
    "    'num_threads': 4\n",
    "}"
   ]
  },
  {
   "cell_type": "code",
   "execution_count": 113,
   "metadata": {},
   "outputs": [],
   "source": [
    "def prepare_val_dataset(t2017, is_train=True):\n",
    "    X = pd.DataFrame({\n",
    "        \"mean_3_2017\": get_timespan(df_val, t2017, 3, 3).mean(axis=1).values,\n",
    "        \"mean_7_2017\": get_timespan(df_val, t2017, 7, 7).mean(axis=1).values,\n",
    "    })\n",
    "    if is_train:\n",
    "        y = df_val[\n",
    "            pd.date_range(t2017, periods=16)\n",
    "        ].values\n",
    "        return X, y\n",
    "    return X"
   ]
  },
  {
   "cell_type": "code",
   "execution_count": 115,
   "metadata": {},
   "outputs": [],
   "source": [
    "X_val, y_val = prepare_val_dataset(date(2017,6,8))"
   ]
  },
  {
   "cell_type": "code",
   "execution_count": 141,
   "metadata": {},
   "outputs": [],
   "source": [
    "df_g = pd.read_csv(\n",
    "    \"../Data/valid_set.csv\", usecols=[0, 1, 2, 3, 4],\n",
    "    dtype={'onpromotion': bool},\n",
    "    parse_dates=[\"date\"]  # , date_parser=parser\n",
    ")"
   ]
  },
  {
   "cell_type": "code",
   "execution_count": 142,
   "metadata": {},
   "outputs": [],
   "source": [
    "df_g = df_g.set_index(\n",
    "    [\"store_nbr\", \"item_nbr\", \"date\"])[[\"unit_sales\"]].unstack(\n",
    "        level=-1).fillna(0)\n",
    "df_g.columns = df_g.columns.get_level_values(1)"
   ]
  },
  {
   "cell_type": "code",
   "execution_count": 143,
   "metadata": {},
   "outputs": [],
   "source": [
    "def prepare_g_dataset(t2017, is_train=True):\n",
    "    X = pd.DataFrame({\n",
    "        \"mean_3_2017\": get_timespan(df_g, t2017, 3, 3).mean(axis=1).values,\n",
    "        \"mean_7_2017\": get_timespan(df_g, t2017, 7, 7).mean(axis=1).values,\n",
    "    })\n",
    "    if is_train:\n",
    "        y = df_train[\n",
    "            pd.date_range(t2017, periods=16)\n",
    "        ].values\n",
    "        return X, y\n",
    "    return X"
   ]
  },
  {
   "cell_type": "code",
   "execution_count": 148,
   "metadata": {},
   "outputs": [],
   "source": [
    "X_test = prepare_g_dataset(date(2017, 8, 16), is_train=False)"
   ]
  },
  {
   "cell_type": "code",
   "execution_count": 151,
   "metadata": {},
   "outputs": [
    {
     "name": "stdout",
     "output_type": "stream",
     "text": [
      "==================================================\n",
      "Step 1\n",
      "==================================================\n",
      "Training until validation scores don't improve for 50 rounds.\n"
     ]
    },
    {
     "name": "stderr",
     "output_type": "stream",
     "text": [
      "/Users/arkarmin/anaconda3/lib/python3.6/site-packages/lightgbm/basic.py:1186: UserWarning: Using categorical_feature in Dataset.\n",
      "  warnings.warn('Using categorical_feature in Dataset.')\n"
     ]
    },
    {
     "name": "stdout",
     "output_type": "stream",
     "text": [
      "[50]\ttraining's l2: 0.401534\tvalid_1's l2: 0.39887\n",
      "[100]\ttraining's l2: 0.396613\tvalid_1's l2: 0.399033\n",
      "Early stopping, best iteration is:\n",
      "[62]\ttraining's l2: 0.398262\tvalid_1's l2: 0.398025\n",
      "mean_7_2017: 1734482.91\n",
      "mean_3_2017: 1462235.85\n",
      "==================================================\n",
      "Step 2\n",
      "==================================================\n",
      "Training until validation scores don't improve for 50 rounds.\n"
     ]
    },
    {
     "name": "stderr",
     "output_type": "stream",
     "text": [
      "/Users/arkarmin/anaconda3/lib/python3.6/site-packages/lightgbm/basic.py:1186: UserWarning: Using categorical_feature in Dataset.\n",
      "  warnings.warn('Using categorical_feature in Dataset.')\n"
     ]
    },
    {
     "name": "stdout",
     "output_type": "stream",
     "text": [
      "[50]\ttraining's l2: 0.415356\tvalid_1's l2: 0.438594\n",
      "[100]\ttraining's l2: 0.409987\tvalid_1's l2: 0.432872\n",
      "[150]\ttraining's l2: 0.409243\tvalid_1's l2: 0.431943\n",
      "[200]\ttraining's l2: 0.408647\tvalid_1's l2: 0.431242\n",
      "[250]\ttraining's l2: 0.408138\tvalid_1's l2: 0.430644\n",
      "[300]\ttraining's l2: 0.407695\tvalid_1's l2: 0.430124\n",
      "[350]\ttraining's l2: 0.407303\tvalid_1's l2: 0.429676\n",
      "[400]\ttraining's l2: 0.406958\tvalid_1's l2: 0.429282\n",
      "[450]\ttraining's l2: 0.406652\tvalid_1's l2: 0.428947\n",
      "[500]\ttraining's l2: 0.406382\tvalid_1's l2: 0.42867\n",
      "[550]\ttraining's l2: 0.406134\tvalid_1's l2: 0.428421\n",
      "[600]\ttraining's l2: 0.405916\tvalid_1's l2: 0.428204\n",
      "[650]\ttraining's l2: 0.405723\tvalid_1's l2: 0.428026\n",
      "[700]\ttraining's l2: 0.405547\tvalid_1's l2: 0.427869\n",
      "[750]\ttraining's l2: 0.405387\tvalid_1's l2: 0.427747\n",
      "[800]\ttraining's l2: 0.405249\tvalid_1's l2: 0.427643\n",
      "[850]\ttraining's l2: 0.405124\tvalid_1's l2: 0.427559\n",
      "[900]\ttraining's l2: 0.405008\tvalid_1's l2: 0.427466\n",
      "[950]\ttraining's l2: 0.404907\tvalid_1's l2: 0.427409\n",
      "[1000]\ttraining's l2: 0.404814\tvalid_1's l2: 0.42735\n",
      "Did not meet early stopping. Best iteration is:\n",
      "[1000]\ttraining's l2: 0.404814\tvalid_1's l2: 0.42735\n",
      "mean_7_2017: 1805896.91\n",
      "mean_3_2017: 1455107.62\n",
      "==================================================\n",
      "Step 3\n",
      "==================================================\n",
      "Training until validation scores don't improve for 50 rounds.\n"
     ]
    },
    {
     "name": "stderr",
     "output_type": "stream",
     "text": [
      "/Users/arkarmin/anaconda3/lib/python3.6/site-packages/lightgbm/basic.py:1186: UserWarning: Using categorical_feature in Dataset.\n",
      "  warnings.warn('Using categorical_feature in Dataset.')\n"
     ]
    },
    {
     "name": "stdout",
     "output_type": "stream",
     "text": [
      "[50]\ttraining's l2: 0.417812\tvalid_1's l2: 0.561624\n",
      "[100]\ttraining's l2: 0.4132\tvalid_1's l2: 0.54132\n",
      "[150]\ttraining's l2: 0.412463\tvalid_1's l2: 0.537189\n",
      "[200]\ttraining's l2: 0.411876\tvalid_1's l2: 0.534586\n",
      "[250]\ttraining's l2: 0.411374\tvalid_1's l2: 0.53212\n",
      "[300]\ttraining's l2: 0.410947\tvalid_1's l2: 0.529898\n",
      "[350]\ttraining's l2: 0.410574\tvalid_1's l2: 0.527797\n",
      "[400]\ttraining's l2: 0.410244\tvalid_1's l2: 0.526\n",
      "[450]\ttraining's l2: 0.409956\tvalid_1's l2: 0.52405\n",
      "[500]\ttraining's l2: 0.409701\tvalid_1's l2: 0.522428\n",
      "[550]\ttraining's l2: 0.409472\tvalid_1's l2: 0.520836\n",
      "[600]\ttraining's l2: 0.409271\tvalid_1's l2: 0.51931\n",
      "[650]\ttraining's l2: 0.40909\tvalid_1's l2: 0.518039\n",
      "[700]\ttraining's l2: 0.408929\tvalid_1's l2: 0.516725\n",
      "[750]\ttraining's l2: 0.408785\tvalid_1's l2: 0.515526\n",
      "[800]\ttraining's l2: 0.408654\tvalid_1's l2: 0.514428\n",
      "[850]\ttraining's l2: 0.408541\tvalid_1's l2: 0.513307\n",
      "[900]\ttraining's l2: 0.408435\tvalid_1's l2: 0.512333\n",
      "[950]\ttraining's l2: 0.40834\tvalid_1's l2: 0.511322\n",
      "[1000]\ttraining's l2: 0.408254\tvalid_1's l2: 0.510439\n",
      "Did not meet early stopping. Best iteration is:\n",
      "[1000]\ttraining's l2: 0.408254\tvalid_1's l2: 0.510439\n",
      "mean_7_2017: 1510511.62\n",
      "mean_3_2017: 1209575.36\n",
      "==================================================\n",
      "Step 4\n",
      "==================================================\n",
      "Training until validation scores don't improve for 50 rounds.\n"
     ]
    },
    {
     "name": "stderr",
     "output_type": "stream",
     "text": [
      "/Users/arkarmin/anaconda3/lib/python3.6/site-packages/lightgbm/basic.py:1186: UserWarning: Using categorical_feature in Dataset.\n",
      "  warnings.warn('Using categorical_feature in Dataset.')\n"
     ]
    },
    {
     "name": "stdout",
     "output_type": "stream",
     "text": [
      "[50]\ttraining's l2: 0.450831\tvalid_1's l2: 0.607413\n",
      "[100]\ttraining's l2: 0.445344\tvalid_1's l2: 0.585465\n",
      "[150]\ttraining's l2: 0.444352\tvalid_1's l2: 0.580797\n",
      "[200]\ttraining's l2: 0.443555\tvalid_1's l2: 0.577427\n",
      "[250]\ttraining's l2: 0.442872\tvalid_1's l2: 0.574458\n",
      "[300]\ttraining's l2: 0.442283\tvalid_1's l2: 0.571611\n",
      "[350]\ttraining's l2: 0.44177\tvalid_1's l2: 0.569089\n",
      "[400]\ttraining's l2: 0.441315\tvalid_1's l2: 0.566775\n",
      "[450]\ttraining's l2: 0.440915\tvalid_1's l2: 0.564525\n",
      "[500]\ttraining's l2: 0.44056\tvalid_1's l2: 0.562529\n",
      "[550]\ttraining's l2: 0.440237\tvalid_1's l2: 0.560553\n",
      "[600]\ttraining's l2: 0.439956\tvalid_1's l2: 0.558782\n",
      "[650]\ttraining's l2: 0.439704\tvalid_1's l2: 0.557113\n",
      "[700]\ttraining's l2: 0.439473\tvalid_1's l2: 0.555526\n",
      "[750]\ttraining's l2: 0.439269\tvalid_1's l2: 0.554166\n",
      "[800]\ttraining's l2: 0.439085\tvalid_1's l2: 0.552826\n",
      "[850]\ttraining's l2: 0.43892\tvalid_1's l2: 0.55147\n",
      "[900]\ttraining's l2: 0.438773\tvalid_1's l2: 0.550184\n",
      "[950]\ttraining's l2: 0.438639\tvalid_1's l2: 0.549123\n",
      "[1000]\ttraining's l2: 0.438518\tvalid_1's l2: 0.548142\n",
      "Did not meet early stopping. Best iteration is:\n",
      "[1000]\ttraining's l2: 0.438518\tvalid_1's l2: 0.548142\n",
      "mean_7_2017: 1735185.90\n",
      "mean_3_2017: 1371774.81\n",
      "==================================================\n",
      "Step 5\n",
      "==================================================\n",
      "Training until validation scores don't improve for 50 rounds.\n"
     ]
    },
    {
     "name": "stderr",
     "output_type": "stream",
     "text": [
      "/Users/arkarmin/anaconda3/lib/python3.6/site-packages/lightgbm/basic.py:1186: UserWarning: Using categorical_feature in Dataset.\n",
      "  warnings.warn('Using categorical_feature in Dataset.')\n"
     ]
    },
    {
     "name": "stdout",
     "output_type": "stream",
     "text": [
      "[50]\ttraining's l2: 0.466842\tvalid_1's l2: 0.476848\n",
      "[100]\ttraining's l2: 0.461166\tvalid_1's l2: 0.480138\n",
      "Early stopping, best iteration is:\n",
      "[52]\ttraining's l2: 0.465903\tvalid_1's l2: 0.476784\n",
      "mean_7_2017: 1939387.87\n",
      "mean_3_2017: 1626904.30\n",
      "==================================================\n",
      "Step 6\n",
      "==================================================\n",
      "Training until validation scores don't improve for 50 rounds.\n"
     ]
    },
    {
     "name": "stderr",
     "output_type": "stream",
     "text": [
      "/Users/arkarmin/anaconda3/lib/python3.6/site-packages/lightgbm/basic.py:1186: UserWarning: Using categorical_feature in Dataset.\n",
      "  warnings.warn('Using categorical_feature in Dataset.')\n"
     ]
    },
    {
     "name": "stdout",
     "output_type": "stream",
     "text": [
      "[50]\ttraining's l2: 0.493442\tvalid_1's l2: 0.519423\n",
      "Early stopping, best iteration is:\n",
      "[42]\ttraining's l2: 0.500114\tvalid_1's l2: 0.518182\n",
      "mean_7_2017: 2015955.54\n",
      "mean_3_2017: 1767131.24\n",
      "==================================================\n",
      "Step 7\n",
      "==================================================\n"
     ]
    },
    {
     "name": "stderr",
     "output_type": "stream",
     "text": [
      "/Users/arkarmin/anaconda3/lib/python3.6/site-packages/lightgbm/basic.py:1186: UserWarning: Using categorical_feature in Dataset.\n",
      "  warnings.warn('Using categorical_feature in Dataset.')\n"
     ]
    },
    {
     "name": "stdout",
     "output_type": "stream",
     "text": [
      "Training until validation scores don't improve for 50 rounds.\n",
      "[50]\ttraining's l2: 0.467606\tvalid_1's l2: 0.46863\n",
      "[100]\ttraining's l2: 0.462531\tvalid_1's l2: 0.464898\n",
      "[150]\ttraining's l2: 0.461923\tvalid_1's l2: 0.4648\n",
      "[200]\ttraining's l2: 0.461453\tvalid_1's l2: 0.464758\n",
      "Early stopping, best iteration is:\n",
      "[186]\ttraining's l2: 0.461576\tvalid_1's l2: 0.464729\n",
      "mean_7_2017: 1712882.59\n",
      "mean_3_2017: 1398913.80\n",
      "==================================================\n",
      "Step 8\n",
      "==================================================\n",
      "Training until validation scores don't improve for 50 rounds.\n"
     ]
    },
    {
     "name": "stderr",
     "output_type": "stream",
     "text": [
      "/Users/arkarmin/anaconda3/lib/python3.6/site-packages/lightgbm/basic.py:1186: UserWarning: Using categorical_feature in Dataset.\n",
      "  warnings.warn('Using categorical_feature in Dataset.')\n"
     ]
    },
    {
     "name": "stdout",
     "output_type": "stream",
     "text": [
      "[50]\ttraining's l2: 0.470131\tvalid_1's l2: 0.458676\n",
      "[100]\ttraining's l2: 0.465193\tvalid_1's l2: 0.458113\n",
      "Early stopping, best iteration is:\n",
      "[65]\ttraining's l2: 0.466644\tvalid_1's l2: 0.457705\n",
      "mean_7_2017: 1575093.86\n",
      "mean_3_2017: 1254822.93\n",
      "==================================================\n",
      "Step 9\n",
      "==================================================\n",
      "Training until validation scores don't improve for 50 rounds.\n"
     ]
    },
    {
     "name": "stderr",
     "output_type": "stream",
     "text": [
      "/Users/arkarmin/anaconda3/lib/python3.6/site-packages/lightgbm/basic.py:1186: UserWarning: Using categorical_feature in Dataset.\n",
      "  warnings.warn('Using categorical_feature in Dataset.')\n"
     ]
    },
    {
     "name": "stdout",
     "output_type": "stream",
     "text": [
      "[50]\ttraining's l2: 0.474263\tvalid_1's l2: 0.519496\n",
      "[100]\ttraining's l2: 0.468874\tvalid_1's l2: 0.51297\n",
      "[150]\ttraining's l2: 0.46782\tvalid_1's l2: 0.511144\n",
      "[200]\ttraining's l2: 0.466955\tvalid_1's l2: 0.509622\n",
      "[250]\ttraining's l2: 0.466211\tvalid_1's l2: 0.508282\n",
      "[300]\ttraining's l2: 0.46555\tvalid_1's l2: 0.507078\n",
      "[350]\ttraining's l2: 0.464974\tvalid_1's l2: 0.506026\n",
      "[400]\ttraining's l2: 0.464455\tvalid_1's l2: 0.505081\n",
      "[450]\ttraining's l2: 0.463994\tvalid_1's l2: 0.504193\n",
      "[500]\ttraining's l2: 0.463585\tvalid_1's l2: 0.503399\n",
      "[550]\ttraining's l2: 0.463217\tvalid_1's l2: 0.502712\n",
      "[600]\ttraining's l2: 0.462881\tvalid_1's l2: 0.50205\n",
      "[650]\ttraining's l2: 0.462588\tvalid_1's l2: 0.501506\n",
      "[700]\ttraining's l2: 0.462319\tvalid_1's l2: 0.500989\n",
      "[750]\ttraining's l2: 0.462075\tvalid_1's l2: 0.500516\n",
      "[800]\ttraining's l2: 0.461852\tvalid_1's l2: 0.500068\n",
      "[850]\ttraining's l2: 0.461656\tvalid_1's l2: 0.499685\n",
      "[900]\ttraining's l2: 0.461479\tvalid_1's l2: 0.499365\n",
      "[950]\ttraining's l2: 0.461323\tvalid_1's l2: 0.49905\n",
      "[1000]\ttraining's l2: 0.461174\tvalid_1's l2: 0.498762\n",
      "Did not meet early stopping. Best iteration is:\n",
      "[1000]\ttraining's l2: 0.461174\tvalid_1's l2: 0.498762\n",
      "mean_7_2017: 1682421.78\n",
      "mean_3_2017: 1314293.50\n",
      "==================================================\n",
      "Step 10\n",
      "==================================================\n",
      "Training until validation scores don't improve for 50 rounds.\n"
     ]
    },
    {
     "name": "stderr",
     "output_type": "stream",
     "text": [
      "/Users/arkarmin/anaconda3/lib/python3.6/site-packages/lightgbm/basic.py:1186: UserWarning: Using categorical_feature in Dataset.\n",
      "  warnings.warn('Using categorical_feature in Dataset.')\n"
     ]
    },
    {
     "name": "stdout",
     "output_type": "stream",
     "text": [
      "[50]\ttraining's l2: 0.463616\tvalid_1's l2: 0.694723\n",
      "[100]\ttraining's l2: 0.458944\tvalid_1's l2: 0.67443\n",
      "[150]\ttraining's l2: 0.457998\tvalid_1's l2: 0.669223\n",
      "[200]\ttraining's l2: 0.457215\tvalid_1's l2: 0.665172\n",
      "[250]\ttraining's l2: 0.456545\tvalid_1's l2: 0.661656\n",
      "[300]\ttraining's l2: 0.455957\tvalid_1's l2: 0.658249\n",
      "[350]\ttraining's l2: 0.455447\tvalid_1's l2: 0.655255\n",
      "[400]\ttraining's l2: 0.454989\tvalid_1's l2: 0.652468\n",
      "[450]\ttraining's l2: 0.454583\tvalid_1's l2: 0.649677\n",
      "[500]\ttraining's l2: 0.454223\tvalid_1's l2: 0.647212\n",
      "[550]\ttraining's l2: 0.453898\tvalid_1's l2: 0.644995\n",
      "[600]\ttraining's l2: 0.453608\tvalid_1's l2: 0.642856\n",
      "[650]\ttraining's l2: 0.453352\tvalid_1's l2: 0.640832\n",
      "[700]\ttraining's l2: 0.453117\tvalid_1's l2: 0.638818\n",
      "[750]\ttraining's l2: 0.452905\tvalid_1's l2: 0.637132\n",
      "[800]\ttraining's l2: 0.452718\tvalid_1's l2: 0.635476\n",
      "[850]\ttraining's l2: 0.452548\tvalid_1's l2: 0.633878\n",
      "[900]\ttraining's l2: 0.452395\tvalid_1's l2: 0.632306\n",
      "[950]\ttraining's l2: 0.452258\tvalid_1's l2: 0.630937\n",
      "[1000]\ttraining's l2: 0.45213\tvalid_1's l2: 0.629655\n",
      "Did not meet early stopping. Best iteration is:\n",
      "[1000]\ttraining's l2: 0.45213\tvalid_1's l2: 0.629655\n",
      "mean_7_2017: 1454349.77\n",
      "mean_3_2017: 1134342.02\n",
      "==================================================\n",
      "Step 11\n",
      "==================================================\n",
      "Training until validation scores don't improve for 50 rounds.\n"
     ]
    },
    {
     "name": "stderr",
     "output_type": "stream",
     "text": [
      "/Users/arkarmin/anaconda3/lib/python3.6/site-packages/lightgbm/basic.py:1186: UserWarning: Using categorical_feature in Dataset.\n",
      "  warnings.warn('Using categorical_feature in Dataset.')\n"
     ]
    },
    {
     "name": "stdout",
     "output_type": "stream",
     "text": [
      "[50]\ttraining's l2: 0.494761\tvalid_1's l2: 0.562912\n",
      "[100]\ttraining's l2: 0.489328\tvalid_1's l2: 0.551244\n",
      "[150]\ttraining's l2: 0.488178\tvalid_1's l2: 0.54797\n",
      "[200]\ttraining's l2: 0.487228\tvalid_1's l2: 0.545314\n",
      "[250]\ttraining's l2: 0.486418\tvalid_1's l2: 0.542933\n",
      "[300]\ttraining's l2: 0.485707\tvalid_1's l2: 0.540763\n",
      "[350]\ttraining's l2: 0.485085\tvalid_1's l2: 0.53882\n",
      "[400]\ttraining's l2: 0.48453\tvalid_1's l2: 0.537002\n",
      "[450]\ttraining's l2: 0.484035\tvalid_1's l2: 0.535314\n",
      "[500]\ttraining's l2: 0.483596\tvalid_1's l2: 0.533803\n",
      "[550]\ttraining's l2: 0.483207\tvalid_1's l2: 0.532464\n",
      "[600]\ttraining's l2: 0.482857\tvalid_1's l2: 0.531167\n",
      "[650]\ttraining's l2: 0.482547\tvalid_1's l2: 0.529917\n",
      "[700]\ttraining's l2: 0.482262\tvalid_1's l2: 0.528883\n",
      "[750]\ttraining's l2: 0.482009\tvalid_1's l2: 0.527869\n",
      "[800]\ttraining's l2: 0.481774\tvalid_1's l2: 0.526888\n",
      "[850]\ttraining's l2: 0.481571\tvalid_1's l2: 0.526013\n",
      "[900]\ttraining's l2: 0.481383\tvalid_1's l2: 0.525189\n",
      "[950]\ttraining's l2: 0.481215\tvalid_1's l2: 0.524413\n",
      "[1000]\ttraining's l2: 0.48106\tvalid_1's l2: 0.523717\n",
      "Did not meet early stopping. Best iteration is:\n",
      "[1000]\ttraining's l2: 0.48106\tvalid_1's l2: 0.523717\n",
      "mean_7_2017: 1647638.44\n",
      "mean_3_2017: 1278108.61\n",
      "==================================================\n",
      "Step 12\n",
      "==================================================\n",
      "Training until validation scores don't improve for 50 rounds.\n"
     ]
    },
    {
     "name": "stderr",
     "output_type": "stream",
     "text": [
      "/Users/arkarmin/anaconda3/lib/python3.6/site-packages/lightgbm/basic.py:1186: UserWarning: Using categorical_feature in Dataset.\n",
      "  warnings.warn('Using categorical_feature in Dataset.')\n"
     ]
    },
    {
     "name": "stdout",
     "output_type": "stream",
     "text": [
      "[50]\ttraining's l2: 0.515477\tvalid_1's l2: 0.509306\n",
      "[100]\ttraining's l2: 0.510125\tvalid_1's l2: 0.510853\n",
      "Early stopping, best iteration is:\n",
      "[58]\ttraining's l2: 0.512768\tvalid_1's l2: 0.508927\n",
      "mean_7_2017: 1814159.00\n",
      "mean_3_2017: 1512064.56\n",
      "==================================================\n",
      "Step 13\n",
      "==================================================\n",
      "Training until validation scores don't improve for 50 rounds.\n"
     ]
    },
    {
     "name": "stderr",
     "output_type": "stream",
     "text": [
      "/Users/arkarmin/anaconda3/lib/python3.6/site-packages/lightgbm/basic.py:1186: UserWarning: Using categorical_feature in Dataset.\n",
      "  warnings.warn('Using categorical_feature in Dataset.')\n"
     ]
    },
    {
     "name": "stdout",
     "output_type": "stream",
     "text": [
      "[50]\ttraining's l2: 0.539444\tvalid_1's l2: 0.533573\n",
      "Early stopping, best iteration is:\n",
      "[46]\ttraining's l2: 0.541957\tvalid_1's l2: 0.53333\n",
      "mean_7_2017: 1897345.92\n",
      "mean_3_2017: 1655501.19\n",
      "==================================================\n",
      "Step 14\n",
      "==================================================\n",
      "Training until validation scores don't improve for 50 rounds.\n"
     ]
    },
    {
     "name": "stderr",
     "output_type": "stream",
     "text": [
      "/Users/arkarmin/anaconda3/lib/python3.6/site-packages/lightgbm/basic.py:1186: UserWarning: Using categorical_feature in Dataset.\n",
      "  warnings.warn('Using categorical_feature in Dataset.')\n"
     ]
    },
    {
     "name": "stdout",
     "output_type": "stream",
     "text": [
      "[50]\ttraining's l2: 0.507569\tvalid_1's l2: 0.495679\n",
      "[100]\ttraining's l2: 0.502717\tvalid_1's l2: 0.492535\n",
      "[150]\ttraining's l2: 0.502134\tvalid_1's l2: 0.492364\n",
      "[200]\ttraining's l2: 0.501683\tvalid_1's l2: 0.492207\n",
      "[250]\ttraining's l2: 0.501307\tvalid_1's l2: 0.492173\n",
      "[300]\ttraining's l2: 0.500983\tvalid_1's l2: 0.492135\n",
      "Early stopping, best iteration is:\n",
      "[272]\ttraining's l2: 0.501159\tvalid_1's l2: 0.49212\n",
      "mean_7_2017: 1631321.90\n",
      "mean_3_2017: 1334732.91\n",
      "==================================================\n",
      "Step 15\n",
      "==================================================\n",
      "Training until validation scores don't improve for 50 rounds.\n"
     ]
    },
    {
     "name": "stderr",
     "output_type": "stream",
     "text": [
      "/Users/arkarmin/anaconda3/lib/python3.6/site-packages/lightgbm/basic.py:1186: UserWarning: Using categorical_feature in Dataset.\n",
      "  warnings.warn('Using categorical_feature in Dataset.')\n"
     ]
    },
    {
     "name": "stdout",
     "output_type": "stream",
     "text": [
      "[50]\ttraining's l2: 0.505244\tvalid_1's l2: 0.482926\n",
      "[100]\ttraining's l2: 0.5005\tvalid_1's l2: 0.48498\n",
      "Early stopping, best iteration is:\n",
      "[53]\ttraining's l2: 0.504072\tvalid_1's l2: 0.482844\n",
      "mean_7_2017: 1489872.57\n",
      "mean_3_2017: 1191324.36\n",
      "==================================================\n",
      "Step 16\n",
      "==================================================\n",
      "Training until validation scores don't improve for 50 rounds.\n"
     ]
    },
    {
     "name": "stderr",
     "output_type": "stream",
     "text": [
      "/Users/arkarmin/anaconda3/lib/python3.6/site-packages/lightgbm/basic.py:1186: UserWarning: Using categorical_feature in Dataset.\n",
      "  warnings.warn('Using categorical_feature in Dataset.')\n"
     ]
    },
    {
     "name": "stdout",
     "output_type": "stream",
     "text": [
      "[50]\ttraining's l2: 0.507488\tvalid_1's l2: 0.528305\n",
      "[100]\ttraining's l2: 0.502389\tvalid_1's l2: 0.525155\n",
      "[150]\ttraining's l2: 0.50139\tvalid_1's l2: 0.524025\n",
      "[200]\ttraining's l2: 0.500558\tvalid_1's l2: 0.522936\n",
      "[250]\ttraining's l2: 0.499842\tvalid_1's l2: 0.52197\n",
      "[300]\ttraining's l2: 0.499212\tvalid_1's l2: 0.521111\n",
      "[350]\ttraining's l2: 0.498658\tvalid_1's l2: 0.520391\n",
      "[400]\ttraining's l2: 0.498158\tvalid_1's l2: 0.519759\n",
      "[450]\ttraining's l2: 0.497707\tvalid_1's l2: 0.519182\n",
      "[500]\ttraining's l2: 0.497309\tvalid_1's l2: 0.518654\n",
      "[550]\ttraining's l2: 0.49695\tvalid_1's l2: 0.518221\n",
      "[600]\ttraining's l2: 0.49663\tvalid_1's l2: 0.51783\n",
      "[650]\ttraining's l2: 0.496342\tvalid_1's l2: 0.517498\n",
      "[700]\ttraining's l2: 0.49608\tvalid_1's l2: 0.517182\n",
      "[750]\ttraining's l2: 0.495841\tvalid_1's l2: 0.516936\n",
      "[800]\ttraining's l2: 0.495622\tvalid_1's l2: 0.516694\n",
      "[850]\ttraining's l2: 0.495432\tvalid_1's l2: 0.516491\n",
      "[900]\ttraining's l2: 0.495257\tvalid_1's l2: 0.516341\n",
      "[950]\ttraining's l2: 0.495104\tvalid_1's l2: 0.516202\n",
      "[1000]\ttraining's l2: 0.494956\tvalid_1's l2: 0.516072\n",
      "Did not meet early stopping. Best iteration is:\n",
      "[1000]\ttraining's l2: 0.494956\tvalid_1's l2: 0.516072\n",
      "mean_7_2017: 1598018.26\n",
      "mean_3_2017: 1246512.09\n",
      "Validation mse: 0.49917398651712624\n"
     ]
    }
   ],
   "source": [
    "MAX_ROUNDS = 1000\n",
    "val_pred = []\n",
    "test_pred = []\n",
    "cate_vars = []\n",
    "for i in range(16):\n",
    "    print(\"=\" * 50)\n",
    "    print(\"Step %d\" % (i+1))\n",
    "    print(\"=\" * 50)\n",
    "    dtrain = lgb.Dataset(\n",
    "        X_train, label=y_train[:, i],\n",
    "        categorical_feature=cate_vars,\n",
    "    )\n",
    "    dval = lgb.Dataset(\n",
    "        X_val, label=y_val[:, i], reference=dtrain,\n",
    "        categorical_feature=cate_vars)\n",
    "    bst = lgb.train(\n",
    "        params, dtrain, num_boost_round=MAX_ROUNDS,\n",
    "        valid_sets=[dtrain, dval], early_stopping_rounds=50, verbose_eval=50\n",
    "    )\n",
    "    print(\"\\n\".join((\"%s: %.2f\" % x) for x in sorted(\n",
    "        zip(X_train.columns, bst.feature_importance(\"gain\")),\n",
    "        key=lambda x: x[1], reverse=True\n",
    "    )))\n",
    "    val_pred.append(bst.predict(\n",
    "        X_val, num_iteration=bst.best_iteration or MAX_ROUNDS))\n",
    "    test_pred.append(bst.predict(\n",
    "        X_test, num_iteration=bst.best_iteration or MAX_ROUNDS))\n",
    "\n",
    "print(\"Validation mse:\", mean_squared_error(\n",
    "    y_val, np.array(val_pred).transpose()))"
   ]
  },
  {
   "cell_type": "code",
   "execution_count": 162,
   "metadata": {},
   "outputs": [
    {
     "name": "stdout",
     "output_type": "stream",
     "text": [
      "Making submission...\n"
     ]
    }
   ],
   "source": [
    "print(\"Making submission...\")\n",
    "y_test = np.array(test_pred).transpose()\n",
    "df_preds = pd.DataFrame(\n",
    "    y_test, index=df_g.index,\n",
    "    columns=pd.date_range(\"2017-08-16\", periods=16)\n",
    ").stack().to_frame(\"unit_sales\")\n",
    "df_preds.index.set_names([\"store_nbr\", \"item_nbr\", \"date\"], inplace=True)\n",
    "\n",
    "submission = df_test[[\"id\"]].join(df_preds, how=\"left\").fillna(0)\n",
    "submission[\"unit_sales\"] = np.clip(np.expm1(submission[\"unit_sales\"]), 0, 1000)\n",
    "submission.to_csv('simple_lgbm.csv', float_format='%.4f', index=None)"
   ]
  },
  {
   "cell_type": "code",
   "execution_count": 1,
   "metadata": {},
   "outputs": [
    {
     "ename": "NameError",
     "evalue": "name 'items' is not defined",
     "output_type": "error",
     "traceback": [
      "\u001b[0;31m---------------------------------------------------------------------------\u001b[0m",
      "\u001b[0;31mNameError\u001b[0m                                 Traceback (most recent call last)",
      "\u001b[0;32m<ipython-input-1-11ced1db96c4>\u001b[0m in \u001b[0;36m<module>\u001b[0;34m\u001b[0m\n\u001b[0;32m----> 1\u001b[0;31m \u001b[0mitems\u001b[0m\u001b[0;34m.\u001b[0m\u001b[0mshape\u001b[0m\u001b[0;34m\u001b[0m\u001b[0m\n\u001b[0m",
      "\u001b[0;31mNameError\u001b[0m: name 'items' is not defined"
     ]
    }
   ],
   "source": [
    "items.shape"
   ]
  }
 ],
 "metadata": {
  "kernelspec": {
   "display_name": "Python 3",
   "language": "python",
   "name": "python3"
  },
  "language_info": {
   "codemirror_mode": {
    "name": "ipython",
    "version": 3
   },
   "file_extension": ".py",
   "mimetype": "text/x-python",
   "name": "python",
   "nbconvert_exporter": "python",
   "pygments_lexer": "ipython3",
   "version": "3.6.0"
  }
 },
 "nbformat": 4,
 "nbformat_minor": 2
}
