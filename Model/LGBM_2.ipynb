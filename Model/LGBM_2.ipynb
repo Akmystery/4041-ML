{
 "cells": [
  {
   "cell_type": "code",
   "execution_count": 14,
   "metadata": {},
   "outputs": [],
   "source": [
    "from datetime import date, timedelta\n",
    "import pandas as pd\n",
    "import numpy as np\n",
    "from sklearn.metrics import mean_squared_error\n",
    "from statsmodels.tsa.arima_model import ARIMA\n",
    "import matplotlib as plp\n",
    "import lightgbm as lgb"
   ]
  },
  {
   "cell_type": "code",
   "execution_count": 15,
   "metadata": {},
   "outputs": [],
   "source": [
    "df_train = pd.read_csv(\n",
    "    '../Data/train_set.csv', usecols=[1, 2, 3, 4],\n",
    "    converters={'unit_sales': lambda u: np.log1p(\n",
    "        float(u)) if float(u) > 0 else 0},\n",
    "    parse_dates=[\"date\"]\n",
    ")"
   ]
  },
  {
   "cell_type": "code",
   "execution_count": 16,
   "metadata": {},
   "outputs": [],
   "source": [
    "df_test = pd.read_csv(\n",
    "    \"../Data/test.csv\", usecols=[0, 1, 2, 3, 4],\n",
    "    dtype={'onpromotion': bool},\n",
    "    parse_dates=[\"date\"]  # , date_parser=parser\n",
    ").set_index(\n",
    "    ['store_nbr', 'item_nbr', 'date']\n",
    ")"
   ]
  },
  {
   "cell_type": "code",
   "execution_count": 17,
   "metadata": {},
   "outputs": [],
   "source": [
    "items = pd.read_csv(\n",
    "    \"../Data/items.csv\",\n",
    ").set_index(\"item_nbr\")"
   ]
  },
  {
   "cell_type": "code",
   "execution_count": 18,
   "metadata": {},
   "outputs": [],
   "source": [
    "df_train = df_train.set_index(\n",
    "    [\"store_nbr\", \"item_nbr\", \"date\"])[[\"unit_sales\"]].unstack(\n",
    "        level=-1).fillna(0)\n",
    "df_train.columns = df_train.columns.get_level_values(1)"
   ]
  },
  {
   "cell_type": "code",
   "execution_count": 19,
   "metadata": {},
   "outputs": [],
   "source": [
    "items = items.reindex(df_train.index.get_level_values(1))"
   ]
  },
  {
   "cell_type": "code",
   "execution_count": 20,
   "metadata": {},
   "outputs": [],
   "source": [
    "def get_timespan(df, dt, minus, periods):\n",
    "    return df[\n",
    "        pd.date_range(dt - timedelta(days=minus), periods=periods)\n",
    "    ]"
   ]
  },
  {
   "cell_type": "code",
   "execution_count": 21,
   "metadata": {},
   "outputs": [],
   "source": [
    "def prepare_dataset(t2017, is_train=True):\n",
    "    X = pd.DataFrame({\n",
    "        \"mean_3_2017\": get_timespan(df_train, t2017, 3, 3).mean(axis=1).values,\n",
    "        \"mean_7_2017\": get_timespan(df_train, t2017, 7, 7).mean(axis=1).values,\n",
    "        \"mean_14_2017\": get_timespan(df_train, t2017, 14, 14).mean(axis=1).values,\n",
    "        \"mean_16_2017\": get_timespan(df_train, t2017, 16, 16).mean(axis=1).values\n",
    "    })\n",
    "    if is_train:\n",
    "        y = df_train[\n",
    "            pd.date_range(t2017, periods=16)\n",
    "        ].values\n",
    "        return X, y\n",
    "    return X"
   ]
  },
  {
   "cell_type": "code",
   "execution_count": 22,
   "metadata": {},
   "outputs": [
    {
     "name": "stdout",
     "output_type": "stream",
     "text": [
      "Preparing dataset...\n"
     ]
    }
   ],
   "source": [
    "print(\"Preparing dataset...\")\n",
    "t2017 = date(2017, 5, 16)\n",
    "X_l, y_l = [], []\n",
    "for i in range(9):\n",
    "    delta = timedelta(days=7 * i)\n",
    "    X_tmp, y_tmp = prepare_dataset(t2017 + delta)\n",
    "    X_l.append(X_tmp)\n",
    "    y_l.append(y_tmp)\n",
    "X_train = pd.concat(X_l, axis=0)\n",
    "y_train = np.concatenate(y_l, axis=0)\n",
    "del X_l, y_l"
   ]
  },
  {
   "cell_type": "code",
   "execution_count": 23,
   "metadata": {},
   "outputs": [],
   "source": [
    "X_val, y_val = prepare_dataset(date(2017, 7, 23))"
   ]
  },
  {
   "cell_type": "code",
   "execution_count": 24,
   "metadata": {},
   "outputs": [],
   "source": [
    "X_test = prepare_dataset(date(2017, 8, 16), is_train=False)"
   ]
  },
  {
   "cell_type": "code",
   "execution_count": 25,
   "metadata": {},
   "outputs": [
    {
     "name": "stdout",
     "output_type": "stream",
     "text": [
      "Training and predicting models...\n",
      "==================================================\n",
      "Step 1\n",
      "==================================================\n"
     ]
    },
    {
     "name": "stderr",
     "output_type": "stream",
     "text": [
      "/Users/arkarmin/anaconda3/lib/python3.6/site-packages/lightgbm/basic.py:1186: UserWarning: Using categorical_feature in Dataset.\n",
      "  warnings.warn('Using categorical_feature in Dataset.')\n"
     ]
    },
    {
     "name": "stdout",
     "output_type": "stream",
     "text": [
      "Training until validation scores don't improve for 50 rounds.\n",
      "[50]\ttraining's l2: 0.45991\tvalid_1's l2: 0.577641\n",
      "[100]\ttraining's l2: 0.376471\tvalid_1's l2: 0.459938\n",
      "[150]\ttraining's l2: 0.364744\tvalid_1's l2: 0.43592\n",
      "[200]\ttraining's l2: 0.362864\tvalid_1's l2: 0.429516\n",
      "[250]\ttraining's l2: 0.36235\tvalid_1's l2: 0.42762\n",
      "[300]\ttraining's l2: 0.362052\tvalid_1's l2: 0.426967\n",
      "[350]\ttraining's l2: 0.361826\tvalid_1's l2: 0.426736\n",
      "[400]\ttraining's l2: 0.361616\tvalid_1's l2: 0.426613\n",
      "[450]\ttraining's l2: 0.361423\tvalid_1's l2: 0.426609\n",
      "[500]\ttraining's l2: 0.361236\tvalid_1's l2: 0.426563\n",
      "[550]\ttraining's l2: 0.361051\tvalid_1's l2: 0.426514\n",
      "Early stopping, best iteration is:\n",
      "[544]\ttraining's l2: 0.361074\tvalid_1's l2: 0.426506\n",
      "mean_7_2017: 7853531.27\n",
      "mean_14_2017: 7769878.44\n",
      "mean_16_2017: 1755879.00\n",
      "mean_3_2017: 1138635.64\n",
      "==================================================\n",
      "Step 2\n",
      "==================================================\n"
     ]
    },
    {
     "name": "stderr",
     "output_type": "stream",
     "text": [
      "/Users/arkarmin/anaconda3/lib/python3.6/site-packages/lightgbm/basic.py:1186: UserWarning: Using categorical_feature in Dataset.\n",
      "  warnings.warn('Using categorical_feature in Dataset.')\n"
     ]
    },
    {
     "name": "stdout",
     "output_type": "stream",
     "text": [
      "Training until validation scores don't improve for 50 rounds.\n",
      "[50]\ttraining's l2: 0.473812\tvalid_1's l2: 0.481605\n",
      "[100]\ttraining's l2: 0.388944\tvalid_1's l2: 0.393762\n",
      "[150]\ttraining's l2: 0.377053\tvalid_1's l2: 0.380619\n",
      "[200]\ttraining's l2: 0.375119\tvalid_1's l2: 0.378371\n",
      "[250]\ttraining's l2: 0.374575\tvalid_1's l2: 0.377851\n",
      "[300]\ttraining's l2: 0.374244\tvalid_1's l2: 0.377687\n",
      "[350]\ttraining's l2: 0.373999\tvalid_1's l2: 0.377623\n",
      "[400]\ttraining's l2: 0.373772\tvalid_1's l2: 0.377551\n",
      "[450]\ttraining's l2: 0.373567\tvalid_1's l2: 0.377535\n",
      "[500]\ttraining's l2: 0.373367\tvalid_1's l2: 0.377518\n",
      "[550]\ttraining's l2: 0.373182\tvalid_1's l2: 0.377526\n",
      "Early stopping, best iteration is:\n",
      "[518]\ttraining's l2: 0.373298\tvalid_1's l2: 0.37751\n",
      "mean_14_2017: 11673125.24\n",
      "mean_7_2017: 5071917.07\n",
      "mean_16_2017: 1957731.69\n",
      "mean_3_2017: 191834.47\n",
      "==================================================\n",
      "Step 3\n",
      "==================================================\n"
     ]
    },
    {
     "name": "stderr",
     "output_type": "stream",
     "text": [
      "/Users/arkarmin/anaconda3/lib/python3.6/site-packages/lightgbm/basic.py:1186: UserWarning: Using categorical_feature in Dataset.\n",
      "  warnings.warn('Using categorical_feature in Dataset.')\n"
     ]
    },
    {
     "name": "stdout",
     "output_type": "stream",
     "text": [
      "Training until validation scores don't improve for 50 rounds.\n",
      "[50]\ttraining's l2: 0.462622\tvalid_1's l2: 0.482599\n",
      "[100]\ttraining's l2: 0.39142\tvalid_1's l2: 0.397672\n",
      "[150]\ttraining's l2: 0.381451\tvalid_1's l2: 0.382537\n",
      "[200]\ttraining's l2: 0.379809\tvalid_1's l2: 0.379085\n",
      "[250]\ttraining's l2: 0.379331\tvalid_1's l2: 0.378069\n",
      "[300]\ttraining's l2: 0.379034\tvalid_1's l2: 0.377709\n",
      "[350]\ttraining's l2: 0.378796\tvalid_1's l2: 0.377564\n",
      "[400]\ttraining's l2: 0.378578\tvalid_1's l2: 0.37749\n",
      "[450]\ttraining's l2: 0.378378\tvalid_1's l2: 0.377443\n",
      "[500]\ttraining's l2: 0.37819\tvalid_1's l2: 0.377438\n",
      "[550]\ttraining's l2: 0.378009\tvalid_1's l2: 0.377423\n",
      "[600]\ttraining's l2: 0.377827\tvalid_1's l2: 0.377406\n",
      "[650]\ttraining's l2: 0.377642\tvalid_1's l2: 0.377423\n",
      "Early stopping, best iteration is:\n",
      "[605]\ttraining's l2: 0.377807\tvalid_1's l2: 0.377403\n",
      "mean_14_2017: 10835362.60\n",
      "mean_7_2017: 3041544.80\n",
      "mean_16_2017: 1862618.77\n",
      "mean_3_2017: 158002.93\n",
      "==================================================\n",
      "Step 4\n",
      "==================================================\n"
     ]
    },
    {
     "name": "stderr",
     "output_type": "stream",
     "text": [
      "/Users/arkarmin/anaconda3/lib/python3.6/site-packages/lightgbm/basic.py:1186: UserWarning: Using categorical_feature in Dataset.\n",
      "  warnings.warn('Using categorical_feature in Dataset.')\n"
     ]
    },
    {
     "name": "stdout",
     "output_type": "stream",
     "text": [
      "Training until validation scores don't improve for 50 rounds.\n",
      "[50]\ttraining's l2: 0.508974\tvalid_1's l2: 0.46811\n",
      "[100]\ttraining's l2: 0.425847\tvalid_1's l2: 0.389473\n",
      "[150]\ttraining's l2: 0.414194\tvalid_1's l2: 0.379587\n",
      "[200]\ttraining's l2: 0.412274\tvalid_1's l2: 0.378598\n",
      "[250]\ttraining's l2: 0.411716\tvalid_1's l2: 0.378617\n",
      "Early stopping, best iteration is:\n",
      "[216]\ttraining's l2: 0.412041\tvalid_1's l2: 0.378571\n",
      "mean_14_2017: 12615241.44\n",
      "mean_7_2017: 3497484.27\n",
      "mean_16_2017: 2248396.26\n",
      "mean_3_2017: 130618.17\n",
      "==================================================\n",
      "Step 5\n",
      "==================================================\n"
     ]
    },
    {
     "name": "stderr",
     "output_type": "stream",
     "text": [
      "/Users/arkarmin/anaconda3/lib/python3.6/site-packages/lightgbm/basic.py:1186: UserWarning: Using categorical_feature in Dataset.\n",
      "  warnings.warn('Using categorical_feature in Dataset.')\n"
     ]
    },
    {
     "name": "stdout",
     "output_type": "stream",
     "text": [
      "Training until validation scores don't improve for 50 rounds.\n",
      "[50]\ttraining's l2: 0.528933\tvalid_1's l2: 0.515605\n",
      "[100]\ttraining's l2: 0.432522\tvalid_1's l2: 0.466733\n",
      "[150]\ttraining's l2: 0.419156\tvalid_1's l2: 0.468946\n",
      "Early stopping, best iteration is:\n",
      "[111]\ttraining's l2: 0.427098\tvalid_1's l2: 0.466389\n",
      "mean_16_2017: 10953109.11\n",
      "mean_14_2017: 8162612.71\n",
      "mean_3_2017: 1072435.43\n",
      "mean_7_2017: 961183.63\n",
      "==================================================\n",
      "Step 6\n",
      "==================================================\n"
     ]
    },
    {
     "name": "stderr",
     "output_type": "stream",
     "text": [
      "/Users/arkarmin/anaconda3/lib/python3.6/site-packages/lightgbm/basic.py:1186: UserWarning: Using categorical_feature in Dataset.\n",
      "  warnings.warn('Using categorical_feature in Dataset.')\n"
     ]
    },
    {
     "name": "stdout",
     "output_type": "stream",
     "text": [
      "Training until validation scores don't improve for 50 rounds.\n",
      "[50]\ttraining's l2: 0.561106\tvalid_1's l2: 0.527797\n",
      "[100]\ttraining's l2: 0.457057\tvalid_1's l2: 0.454558\n",
      "[150]\ttraining's l2: 0.442026\tvalid_1's l2: 0.448312\n",
      "[200]\ttraining's l2: 0.439342\tvalid_1's l2: 0.44857\n",
      "Early stopping, best iteration is:\n",
      "[160]\ttraining's l2: 0.441162\tvalid_1's l2: 0.448206\n",
      "mean_16_2017: 16365474.76\n",
      "mean_3_2017: 3739305.54\n",
      "mean_14_2017: 2634265.24\n",
      "mean_7_2017: 128582.07\n",
      "==================================================\n",
      "Step 7\n",
      "==================================================\n"
     ]
    },
    {
     "name": "stderr",
     "output_type": "stream",
     "text": [
      "/Users/arkarmin/anaconda3/lib/python3.6/site-packages/lightgbm/basic.py:1186: UserWarning: Using categorical_feature in Dataset.\n",
      "  warnings.warn('Using categorical_feature in Dataset.')\n"
     ]
    },
    {
     "name": "stdout",
     "output_type": "stream",
     "text": [
      "Training until validation scores don't improve for 50 rounds.\n",
      "[50]\ttraining's l2: 0.511244\tvalid_1's l2: 0.596117\n",
      "[100]\ttraining's l2: 0.430123\tvalid_1's l2: 0.494688\n",
      "[150]\ttraining's l2: 0.418874\tvalid_1's l2: 0.475733\n",
      "[200]\ttraining's l2: 0.417049\tvalid_1's l2: 0.471112\n",
      "[250]\ttraining's l2: 0.416542\tvalid_1's l2: 0.469751\n",
      "[300]\ttraining's l2: 0.416248\tvalid_1's l2: 0.469336\n",
      "[350]\ttraining's l2: 0.41601\tvalid_1's l2: 0.469168\n",
      "[400]\ttraining's l2: 0.415789\tvalid_1's l2: 0.469129\n",
      "[450]\ttraining's l2: 0.415588\tvalid_1's l2: 0.469089\n",
      "[500]\ttraining's l2: 0.415379\tvalid_1's l2: 0.46909\n",
      "[550]\ttraining's l2: 0.415185\tvalid_1's l2: 0.469076\n",
      "[600]\ttraining's l2: 0.414995\tvalid_1's l2: 0.469078\n",
      "Early stopping, best iteration is:\n",
      "[567]\ttraining's l2: 0.415121\tvalid_1's l2: 0.46905\n",
      "mean_16_2017: 13179435.69\n",
      "mean_14_2017: 3345064.91\n",
      "mean_7_2017: 1226764.68\n",
      "mean_3_2017: 377222.64\n",
      "==================================================\n",
      "Step 8\n",
      "==================================================\n"
     ]
    },
    {
     "name": "stderr",
     "output_type": "stream",
     "text": [
      "/Users/arkarmin/anaconda3/lib/python3.6/site-packages/lightgbm/basic.py:1186: UserWarning: Using categorical_feature in Dataset.\n",
      "  warnings.warn('Using categorical_feature in Dataset.')\n"
     ]
    },
    {
     "name": "stdout",
     "output_type": "stream",
     "text": [
      "Training until validation scores don't improve for 50 rounds.\n",
      "[50]\ttraining's l2: 0.507179\tvalid_1's l2: 0.679314\n",
      "[100]\ttraining's l2: 0.431653\tvalid_1's l2: 0.567121\n",
      "[150]\ttraining's l2: 0.421154\tvalid_1's l2: 0.54324\n",
      "[200]\ttraining's l2: 0.419434\tvalid_1's l2: 0.536633\n",
      "[250]\ttraining's l2: 0.418944\tvalid_1's l2: 0.534521\n",
      "[300]\ttraining's l2: 0.418647\tvalid_1's l2: 0.533714\n",
      "[350]\ttraining's l2: 0.418397\tvalid_1's l2: 0.533389\n",
      "[400]\ttraining's l2: 0.41817\tvalid_1's l2: 0.533216\n",
      "[450]\ttraining's l2: 0.417955\tvalid_1's l2: 0.533082\n",
      "[500]\ttraining's l2: 0.417749\tvalid_1's l2: 0.533037\n",
      "[550]\ttraining's l2: 0.41755\tvalid_1's l2: 0.53301\n",
      "[600]\ttraining's l2: 0.417348\tvalid_1's l2: 0.532961\n",
      "[650]\ttraining's l2: 0.417152\tvalid_1's l2: 0.532916\n",
      "Early stopping, best iteration is:\n",
      "[636]\ttraining's l2: 0.41721\tvalid_1's l2: 0.532881\n",
      "mean_14_2017: 9052491.13\n",
      "mean_16_2017: 5862662.70\n",
      "mean_7_2017: 1858650.17\n",
      "mean_3_2017: 143329.92\n",
      "==================================================\n",
      "Step 9\n",
      "==================================================\n"
     ]
    },
    {
     "name": "stderr",
     "output_type": "stream",
     "text": [
      "/Users/arkarmin/anaconda3/lib/python3.6/site-packages/lightgbm/basic.py:1186: UserWarning: Using categorical_feature in Dataset.\n",
      "  warnings.warn('Using categorical_feature in Dataset.')\n"
     ]
    },
    {
     "name": "stdout",
     "output_type": "stream",
     "text": [
      "Training until validation scores don't improve for 50 rounds.\n",
      "[50]\ttraining's l2: 0.514912\tvalid_1's l2: 0.556123\n",
      "[100]\ttraining's l2: 0.436428\tvalid_1's l2: 0.466052\n",
      "[150]\ttraining's l2: 0.425472\tvalid_1's l2: 0.45077\n",
      "[200]\ttraining's l2: 0.423651\tvalid_1's l2: 0.447508\n",
      "[250]\ttraining's l2: 0.423127\tvalid_1's l2: 0.446602\n",
      "[300]\ttraining's l2: 0.4228\tvalid_1's l2: 0.446282\n",
      "[350]\ttraining's l2: 0.422541\tvalid_1's l2: 0.446167\n",
      "[400]\ttraining's l2: 0.422295\tvalid_1's l2: 0.446095\n",
      "[450]\ttraining's l2: 0.422075\tvalid_1's l2: 0.446067\n",
      "[500]\ttraining's l2: 0.421865\tvalid_1's l2: 0.446048\n",
      "[550]\ttraining's l2: 0.421662\tvalid_1's l2: 0.446047\n",
      "[600]\ttraining's l2: 0.421466\tvalid_1's l2: 0.446088\n",
      "Early stopping, best iteration is:\n",
      "[551]\ttraining's l2: 0.421658\tvalid_1's l2: 0.446045\n",
      "mean_14_2017: 11123039.71\n",
      "mean_16_2017: 4243678.16\n",
      "mean_7_2017: 2072276.99\n",
      "mean_3_2017: 115100.41\n",
      "==================================================\n",
      "Step 10\n",
      "==================================================\n"
     ]
    },
    {
     "name": "stderr",
     "output_type": "stream",
     "text": [
      "/Users/arkarmin/anaconda3/lib/python3.6/site-packages/lightgbm/basic.py:1186: UserWarning: Using categorical_feature in Dataset.\n",
      "  warnings.warn('Using categorical_feature in Dataset.')\n"
     ]
    },
    {
     "name": "stdout",
     "output_type": "stream",
     "text": [
      "Training until validation scores don't improve for 50 rounds.\n",
      "[50]\ttraining's l2: 0.495088\tvalid_1's l2: 0.673137\n",
      "[100]\ttraining's l2: 0.42762\tvalid_1's l2: 0.569866\n",
      "[150]\ttraining's l2: 0.418128\tvalid_1's l2: 0.547016\n",
      "[200]\ttraining's l2: 0.41651\tvalid_1's l2: 0.540501\n",
      "[250]\ttraining's l2: 0.416013\tvalid_1's l2: 0.538313\n",
      "[300]\ttraining's l2: 0.415696\tvalid_1's l2: 0.53743\n",
      "[350]\ttraining's l2: 0.415437\tvalid_1's l2: 0.537069\n",
      "[400]\ttraining's l2: 0.415203\tvalid_1's l2: 0.5368\n",
      "[450]\ttraining's l2: 0.414987\tvalid_1's l2: 0.536674\n",
      "[500]\ttraining's l2: 0.414772\tvalid_1's l2: 0.53662\n",
      "[550]\ttraining's l2: 0.414566\tvalid_1's l2: 0.536571\n",
      "[600]\ttraining's l2: 0.414368\tvalid_1's l2: 0.536554\n",
      "[650]\ttraining's l2: 0.414173\tvalid_1's l2: 0.5365\n",
      "Early stopping, best iteration is:\n",
      "[634]\ttraining's l2: 0.414237\tvalid_1's l2: 0.53647\n",
      "mean_14_2017: 8016836.62\n",
      "mean_16_2017: 6025628.15\n",
      "mean_7_2017: 972654.89\n",
      "mean_3_2017: 103478.75\n",
      "==================================================\n",
      "Step 11\n",
      "==================================================\n"
     ]
    },
    {
     "name": "stderr",
     "output_type": "stream",
     "text": [
      "/Users/arkarmin/anaconda3/lib/python3.6/site-packages/lightgbm/basic.py:1186: UserWarning: Using categorical_feature in Dataset.\n",
      "  warnings.warn('Using categorical_feature in Dataset.')\n"
     ]
    },
    {
     "name": "stdout",
     "output_type": "stream",
     "text": [
      "Training until validation scores don't improve for 50 rounds.\n",
      "[50]\ttraining's l2: 0.542547\tvalid_1's l2: 0.587291\n",
      "[100]\ttraining's l2: 0.463839\tvalid_1's l2: 0.490933\n",
      "[150]\ttraining's l2: 0.45275\tvalid_1's l2: 0.473377\n",
      "[200]\ttraining's l2: 0.450839\tvalid_1's l2: 0.469259\n",
      "[250]\ttraining's l2: 0.450258\tvalid_1's l2: 0.468063\n",
      "[300]\ttraining's l2: 0.449905\tvalid_1's l2: 0.467667\n",
      "[350]\ttraining's l2: 0.44962\tvalid_1's l2: 0.46748\n",
      "[400]\ttraining's l2: 0.449358\tvalid_1's l2: 0.467394\n",
      "[450]\ttraining's l2: 0.449108\tvalid_1's l2: 0.46737\n",
      "[500]\ttraining's l2: 0.448878\tvalid_1's l2: 0.467371\n",
      "Early stopping, best iteration is:\n",
      "[492]\ttraining's l2: 0.448914\tvalid_1's l2: 0.467364\n",
      "mean_16_2017: 9886940.67\n",
      "mean_14_2017: 7053177.83\n",
      "mean_7_2017: 559494.18\n",
      "mean_3_2017: 111604.68\n",
      "==================================================\n",
      "Step 12\n",
      "==================================================\n"
     ]
    },
    {
     "name": "stderr",
     "output_type": "stream",
     "text": [
      "/Users/arkarmin/anaconda3/lib/python3.6/site-packages/lightgbm/basic.py:1186: UserWarning: Using categorical_feature in Dataset.\n",
      "  warnings.warn('Using categorical_feature in Dataset.')\n"
     ]
    },
    {
     "name": "stdout",
     "output_type": "stream",
     "text": [
      "Training until validation scores don't improve for 50 rounds.\n",
      "[50]\ttraining's l2: 0.565252\tvalid_1's l2: 0.533663\n",
      "[100]\ttraining's l2: 0.474453\tvalid_1's l2: 0.476373\n",
      "[150]\ttraining's l2: 0.461692\tvalid_1's l2: 0.474454\n",
      "Early stopping, best iteration is:\n",
      "[128]\ttraining's l2: 0.464611\tvalid_1's l2: 0.47404\n",
      "mean_16_2017: 16208218.43\n",
      "mean_14_2017: 3185080.79\n",
      "mean_3_2017: 487866.76\n",
      "mean_7_2017: 171993.92\n",
      "==================================================\n",
      "Step 13\n",
      "==================================================\n"
     ]
    },
    {
     "name": "stderr",
     "output_type": "stream",
     "text": [
      "/Users/arkarmin/anaconda3/lib/python3.6/site-packages/lightgbm/basic.py:1186: UserWarning: Using categorical_feature in Dataset.\n",
      "  warnings.warn('Using categorical_feature in Dataset.')\n"
     ]
    },
    {
     "name": "stdout",
     "output_type": "stream",
     "text": [
      "Training until validation scores don't improve for 50 rounds.\n",
      "[50]\ttraining's l2: 0.59607\tvalid_1's l2: 0.552281\n",
      "[100]\ttraining's l2: 0.497824\tvalid_1's l2: 0.482309\n",
      "[150]\ttraining's l2: 0.483304\tvalid_1's l2: 0.475947\n",
      "[200]\ttraining's l2: 0.480487\tvalid_1's l2: 0.475728\n",
      "[250]\ttraining's l2: 0.479528\tvalid_1's l2: 0.475657\n",
      "[300]\ttraining's l2: 0.479014\tvalid_1's l2: 0.475504\n",
      "[350]\ttraining's l2: 0.478622\tvalid_1's l2: 0.475402\n",
      "[400]\ttraining's l2: 0.478302\tvalid_1's l2: 0.475304\n",
      "[450]\ttraining's l2: 0.477991\tvalid_1's l2: 0.475125\n",
      "[500]\ttraining's l2: 0.477708\tvalid_1's l2: 0.475007\n",
      "[550]\ttraining's l2: 0.477456\tvalid_1's l2: 0.474942\n",
      "[600]\ttraining's l2: 0.477224\tvalid_1's l2: 0.474912\n",
      "[650]\ttraining's l2: 0.477\tvalid_1's l2: 0.474844\n",
      "[700]\ttraining's l2: 0.476785\tvalid_1's l2: 0.474824\n",
      "Early stopping, best iteration is:\n",
      "[696]\ttraining's l2: 0.476802\tvalid_1's l2: 0.474812\n",
      "mean_16_2017: 16765772.59\n",
      "mean_14_2017: 2871061.30\n",
      "mean_3_2017: 2005837.98\n",
      "mean_7_2017: 110979.07\n",
      "==================================================\n",
      "Step 14\n",
      "==================================================\n"
     ]
    },
    {
     "name": "stderr",
     "output_type": "stream",
     "text": [
      "/Users/arkarmin/anaconda3/lib/python3.6/site-packages/lightgbm/basic.py:1186: UserWarning: Using categorical_feature in Dataset.\n",
      "  warnings.warn('Using categorical_feature in Dataset.')\n"
     ]
    },
    {
     "name": "stdout",
     "output_type": "stream",
     "text": [
      "Training until validation scores don't improve for 50 rounds.\n",
      "[50]\ttraining's l2: 0.539635\tvalid_1's l2: 0.612142\n",
      "[100]\ttraining's l2: 0.461833\tvalid_1's l2: 0.51955\n",
      "[150]\ttraining's l2: 0.450751\tvalid_1's l2: 0.502711\n",
      "[200]\ttraining's l2: 0.448773\tvalid_1's l2: 0.498588\n",
      "[250]\ttraining's l2: 0.448164\tvalid_1's l2: 0.497312\n",
      "[300]\ttraining's l2: 0.44781\tvalid_1's l2: 0.496861\n",
      "[350]\ttraining's l2: 0.447512\tvalid_1's l2: 0.496634\n",
      "[400]\ttraining's l2: 0.447245\tvalid_1's l2: 0.496537\n",
      "[450]\ttraining's l2: 0.446985\tvalid_1's l2: 0.496402\n",
      "[500]\ttraining's l2: 0.446744\tvalid_1's l2: 0.496341\n",
      "[550]\ttraining's l2: 0.446513\tvalid_1's l2: 0.49627\n",
      "[600]\ttraining's l2: 0.446299\tvalid_1's l2: 0.496227\n",
      "[650]\ttraining's l2: 0.446089\tvalid_1's l2: 0.496173\n",
      "[700]\ttraining's l2: 0.445889\tvalid_1's l2: 0.496149\n",
      "[750]\ttraining's l2: 0.445698\tvalid_1's l2: 0.496126\n",
      "Early stopping, best iteration is:\n",
      "[740]\ttraining's l2: 0.445738\tvalid_1's l2: 0.496105\n",
      "mean_16_2017: 14118852.01\n",
      "mean_14_2017: 2759440.48\n",
      "mean_7_2017: 302543.68\n",
      "mean_3_2017: 253964.35\n",
      "==================================================\n",
      "Step 15\n",
      "==================================================\n"
     ]
    },
    {
     "name": "stderr",
     "output_type": "stream",
     "text": [
      "/Users/arkarmin/anaconda3/lib/python3.6/site-packages/lightgbm/basic.py:1186: UserWarning: Using categorical_feature in Dataset.\n",
      "  warnings.warn('Using categorical_feature in Dataset.')\n"
     ]
    },
    {
     "name": "stdout",
     "output_type": "stream",
     "text": [
      "Training until validation scores don't improve for 50 rounds.\n",
      "[50]\ttraining's l2: 0.532407\tvalid_1's l2: 0.700643\n",
      "[100]\ttraining's l2: 0.460248\tvalid_1's l2: 0.597684\n",
      "[150]\ttraining's l2: 0.450073\tvalid_1's l2: 0.576263\n",
      "[200]\ttraining's l2: 0.448307\tvalid_1's l2: 0.570487\n",
      "[250]\ttraining's l2: 0.447751\tvalid_1's l2: 0.568552\n",
      "[300]\ttraining's l2: 0.447413\tvalid_1's l2: 0.567805\n",
      "[350]\ttraining's l2: 0.447138\tvalid_1's l2: 0.567502\n",
      "[400]\ttraining's l2: 0.446886\tvalid_1's l2: 0.567286\n",
      "[450]\ttraining's l2: 0.446642\tvalid_1's l2: 0.567162\n",
      "[500]\ttraining's l2: 0.446414\tvalid_1's l2: 0.56705\n",
      "[550]\ttraining's l2: 0.44619\tvalid_1's l2: 0.566965\n",
      "[600]\ttraining's l2: 0.445967\tvalid_1's l2: 0.566895\n",
      "[650]\ttraining's l2: 0.445753\tvalid_1's l2: 0.566813\n",
      "[700]\ttraining's l2: 0.445553\tvalid_1's l2: 0.566739\n",
      "[750]\ttraining's l2: 0.445356\tvalid_1's l2: 0.566759\n",
      "Early stopping, best iteration is:\n",
      "[707]\ttraining's l2: 0.445526\tvalid_1's l2: 0.566726\n",
      "mean_16_2017: 13096858.84\n",
      "mean_14_2017: 2554206.61\n",
      "mean_7_2017: 411623.53\n",
      "mean_3_2017: 127761.76\n",
      "==================================================\n",
      "Step 16\n",
      "==================================================\n"
     ]
    },
    {
     "name": "stderr",
     "output_type": "stream",
     "text": [
      "/Users/arkarmin/anaconda3/lib/python3.6/site-packages/lightgbm/basic.py:1186: UserWarning: Using categorical_feature in Dataset.\n",
      "  warnings.warn('Using categorical_feature in Dataset.')\n"
     ]
    },
    {
     "name": "stdout",
     "output_type": "stream",
     "text": [
      "Training until validation scores don't improve for 50 rounds.\n",
      "[50]\ttraining's l2: 0.539131\tvalid_1's l2: 0.552223\n",
      "[100]\ttraining's l2: 0.464018\tvalid_1's l2: 0.475322\n",
      "[150]\ttraining's l2: 0.453404\tvalid_1's l2: 0.464057\n",
      "[200]\ttraining's l2: 0.451575\tvalid_1's l2: 0.462185\n",
      "[250]\ttraining's l2: 0.451001\tvalid_1's l2: 0.461728\n",
      "[300]\ttraining's l2: 0.450644\tvalid_1's l2: 0.461588\n",
      "[350]\ttraining's l2: 0.450362\tvalid_1's l2: 0.461529\n",
      "[400]\ttraining's l2: 0.450099\tvalid_1's l2: 0.461486\n",
      "[450]\ttraining's l2: 0.449853\tvalid_1's l2: 0.461442\n",
      "[500]\ttraining's l2: 0.449614\tvalid_1's l2: 0.46142\n",
      "[550]\ttraining's l2: 0.449384\tvalid_1's l2: 0.461414\n",
      "[600]\ttraining's l2: 0.449165\tvalid_1's l2: 0.461376\n",
      "[650]\ttraining's l2: 0.44896\tvalid_1's l2: 0.46133\n",
      "[700]\ttraining's l2: 0.448749\tvalid_1's l2: 0.461322\n",
      "[750]\ttraining's l2: 0.448549\tvalid_1's l2: 0.461329\n",
      "Early stopping, best iteration is:\n",
      "[701]\ttraining's l2: 0.448745\tvalid_1's l2: 0.46132\n",
      "mean_16_2017: 13547175.80\n",
      "mean_14_2017: 2891551.01\n",
      "mean_7_2017: 307471.74\n",
      "mean_3_2017: 114484.53\n",
      "Validation mse: 0.4624623263303622\n"
     ]
    }
   ],
   "source": [
    "print(\"Training and predicting models...\")\n",
    "params = {\n",
    "    'num_leaves': 80,\n",
    "    'objective': 'regression',\n",
    "    'min_data_in_leaf': 200,\n",
    "    'learning_rate': 0.02,\n",
    "    'feature_fraction': 0.8,\n",
    "    'bagging_fraction': 0.7,\n",
    "    'bagging_freq': 1,\n",
    "    'metric': 'l2',\n",
    "    'num_threads': 16\n",
    "}\n",
    "\n",
    "MAX_ROUNDS = 5000\n",
    "val_pred = []\n",
    "test_pred = []\n",
    "cate_vars = []\n",
    "for i in range(16):\n",
    "    print(\"=\" * 50)\n",
    "    print(\"Step %d\" % (i+1))\n",
    "    print(\"=\" * 50)\n",
    "    dtrain = lgb.Dataset(\n",
    "        X_train, label=y_train[:, i],\n",
    "        categorical_feature=cate_vars,\n",
    "    )\n",
    "    \n",
    "    dval = lgb.Dataset(\n",
    "        X_val, label=y_val[:, i], reference=dtrain,\n",
    "        categorical_feature=cate_vars)\n",
    "    \n",
    "    bst = lgb.train(\n",
    "        params, dtrain, num_boost_round=MAX_ROUNDS,\n",
    "        valid_sets=[dtrain, dval], early_stopping_rounds=50, verbose_eval=50\n",
    "    )\n",
    "    \n",
    "    print(\"\\n\".join((\"%s: %.2f\" % x) for x in sorted(\n",
    "        zip(X_train.columns, bst.feature_importance(\"gain\")),\n",
    "        key=lambda x: x[1], reverse=True\n",
    "    )))\n",
    "    val_pred.append(bst.predict(\n",
    "        X_val, num_iteration=bst.best_iteration or MAX_ROUNDS))\n",
    "    test_pred.append(bst.predict(\n",
    "        X_test, num_iteration=bst.best_iteration or MAX_ROUNDS))\n",
    "\n",
    "print(\"Validation mse:\", mean_squared_error(\n",
    "    y_val, np.array(val_pred).transpose()))\n",
    "\n"
   ]
  },
  {
   "cell_type": "code",
   "execution_count": 26,
   "metadata": {},
   "outputs": [
    {
     "name": "stdout",
     "output_type": "stream",
     "text": [
      "Making submission...\n"
     ]
    }
   ],
   "source": [
    "print(\"Making submission...\")\n",
    "y_test = np.array(test_pred).transpose()\n",
    "df_preds = pd.DataFrame(\n",
    "    y_test, index=df_train.index,\n",
    "    columns=pd.date_range(\"2017-08-16\", periods=16)\n",
    ").stack().to_frame(\"unit_sales\")\n",
    "df_preds.index.set_names([\"store_nbr\", \"item_nbr\", \"date\"], inplace=True)\n",
    "\n",
    "submission = df_test[[\"id\"]].join(df_preds, how=\"left\").fillna(0)\n",
    "submission[\"unit_sales\"] = np.clip(np.expm1(submission[\"unit_sales\"]), 0, 1000)\n",
    "submission.to_csv('modified_1.csv', float_format='%.4f', index=None)"
   ]
  }
 ],
 "metadata": {
  "kernelspec": {
   "display_name": "Python 3",
   "language": "python",
   "name": "python3"
  },
  "language_info": {
   "codemirror_mode": {
    "name": "ipython",
    "version": 3
   },
   "file_extension": ".py",
   "mimetype": "text/x-python",
   "name": "python",
   "nbconvert_exporter": "python",
   "pygments_lexer": "ipython3",
   "version": "3.6.0"
  }
 },
 "nbformat": 4,
 "nbformat_minor": 2
}
