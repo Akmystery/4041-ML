{
 "cells": [
  {
   "cell_type": "code",
   "execution_count": 1,
   "metadata": {},
   "outputs": [
    {
     "name": "stderr",
     "output_type": "stream",
     "text": [
      "/Users/arkarmin/anaconda3/lib/python3.6/site-packages/lightgbm/__init__.py:46: UserWarning: Starting from version 2.2.1, the library file in distribution wheels for macOS is built by the Apple Clang (Xcode_8.3.1) compiler.\n",
      "This means that in case of installing LightGBM from PyPI via the ``pip install lightgbm`` command, you don't need to install the gcc compiler anymore.\n",
      "Instead of that, you need to install the OpenMP library, which is required for running LightGBM on the system with the Apple Clang compiler.\n",
      "You can install the OpenMP library by the following command: ``brew install libomp``.\n",
      "  \"You can install the OpenMP library by the following command: ``brew install libomp``.\", UserWarning)\n"
     ]
    }
   ],
   "source": [
    "from datetime import date, timedelta\n",
    "import pandas as pd\n",
    "import numpy as np\n",
    "from sklearn.metrics import mean_squared_error\n",
    "from statsmodels.tsa.arima_model import ARIMA\n",
    "import matplotlib as plp\n",
    "import lightgbm as lgb"
   ]
  },
  {
   "cell_type": "code",
   "execution_count": 2,
   "metadata": {},
   "outputs": [],
   "source": [
    "df_train = pd.read_csv(\n",
    "    '../Data/train_set.csv', usecols=[1, 2, 3, 4],\n",
    "    converters={'unit_sales': lambda u: np.log1p(\n",
    "        float(u)) if float(u) > 0 else 0},\n",
    "    parse_dates=[\"date\"]\n",
    ")"
   ]
  },
  {
   "cell_type": "code",
   "execution_count": 3,
   "metadata": {},
   "outputs": [],
   "source": [
    "df_test = pd.read_csv(\n",
    "    \"../Data/test.csv\", usecols=[0, 1, 2, 3, 4],\n",
    "    dtype={'onpromotion': bool},\n",
    "    parse_dates=[\"date\"]  # , date_parser=parser\n",
    ").set_index(\n",
    "    ['store_nbr', 'item_nbr', 'date']\n",
    ")"
   ]
  },
  {
   "cell_type": "code",
   "execution_count": 4,
   "metadata": {},
   "outputs": [],
   "source": [
    "items = pd.read_csv(\n",
    "    \"../Data/items.csv\",\n",
    ").set_index(\"item_nbr\")"
   ]
  },
  {
   "cell_type": "code",
   "execution_count": 5,
   "metadata": {},
   "outputs": [],
   "source": [
    "df_train = df_train.set_index(\n",
    "    [\"store_nbr\", \"item_nbr\", \"date\"])[[\"unit_sales\"]].unstack(\n",
    "        level=-1).fillna(0)\n",
    "df_train.columns = df_train.columns.get_level_values(1)"
   ]
  },
  {
   "cell_type": "code",
   "execution_count": 6,
   "metadata": {},
   "outputs": [],
   "source": [
    "items = items.reindex(df_train.index.get_level_values(1))"
   ]
  },
  {
   "cell_type": "code",
   "execution_count": 7,
   "metadata": {},
   "outputs": [],
   "source": [
    "def get_timespan(df, dt, minus, periods):\n",
    "    return df[\n",
    "        pd.date_range(dt - timedelta(days=minus), periods=periods)\n",
    "    ]"
   ]
  },
  {
   "cell_type": "code",
   "execution_count": 8,
   "metadata": {},
   "outputs": [],
   "source": [
    "def prepare_dataset(t2017, is_train=True):\n",
    "    X = pd.DataFrame({\n",
    "        \"mean_3_2017\": get_timespan(df_train, t2017, 3, 3).mean(axis=1).values,\n",
    "        \"mean_7_2017\": get_timespan(df_train, t2017, 7, 7).mean(axis=1).values,\n",
    "        \"mean_14_2017\": get_timespan(df_train, t2017, 14, 14).mean(axis=1).values,\n",
    "        \"mean_16_2017\": get_timespan(df_train, t2017, 16, 16).mean(axis=1).values\n",
    "    })\n",
    "    if is_train:\n",
    "        y = df_train[\n",
    "            pd.date_range(t2017, periods=16)\n",
    "        ].values\n",
    "        return X, y\n",
    "    return X"
   ]
  },
  {
   "cell_type": "code",
   "execution_count": 9,
   "metadata": {},
   "outputs": [
    {
     "name": "stdout",
     "output_type": "stream",
     "text": [
      "Preparing dataset...\n"
     ]
    }
   ],
   "source": [
    "print(\"Preparing dataset...\")\n",
    "t2017 = date(2017, 5, 16)\n",
    "X_l, y_l = [], []\n",
    "for i in range(9):\n",
    "    delta = timedelta(days=7 * i)\n",
    "    X_tmp, y_tmp = prepare_dataset(t2017 + delta)\n",
    "    X_l.append(X_tmp)\n",
    "    y_l.append(y_tmp)\n",
    "X_train = pd.concat(X_l, axis=0)\n",
    "y_train = np.concatenate(y_l, axis=0)\n",
    "del X_l, y_l"
   ]
  },
  {
   "cell_type": "code",
   "execution_count": 10,
   "metadata": {},
   "outputs": [],
   "source": [
    "X_val, y_val = prepare_dataset(date(2017, 7, 23))"
   ]
  },
  {
   "cell_type": "code",
   "execution_count": 11,
   "metadata": {},
   "outputs": [],
   "source": [
    "X_test = prepare_dataset(date(2017, 8, 16), is_train=False)"
   ]
  },
  {
   "cell_type": "code",
   "execution_count": 12,
   "metadata": {},
   "outputs": [
    {
     "name": "stdout",
     "output_type": "stream",
     "text": [
      "Training and predicting models...\n",
      "==================================================\n",
      "Step 1\n",
      "==================================================\n"
     ]
    },
    {
     "name": "stderr",
     "output_type": "stream",
     "text": [
      "/Users/arkarmin/anaconda3/lib/python3.6/site-packages/lightgbm/basic.py:1186: UserWarning: Using categorical_feature in Dataset.\n",
      "  warnings.warn('Using categorical_feature in Dataset.')\n"
     ]
    },
    {
     "name": "stdout",
     "output_type": "stream",
     "text": [
      "Training until validation scores don't improve for 50 rounds.\n",
      "[50]\ttraining's l2: 0.368974\tvalid_1's l2: 0.444153\n",
      "[100]\ttraining's l2: 0.363409\tvalid_1's l2: 0.428594\n",
      "[150]\ttraining's l2: 0.362881\tvalid_1's l2: 0.427605\n",
      "[200]\ttraining's l2: 0.362513\tvalid_1's l2: 0.427377\n",
      "[250]\ttraining's l2: 0.362192\tvalid_1's l2: 0.427341\n",
      "[300]\ttraining's l2: 0.361897\tvalid_1's l2: 0.427318\n",
      "[350]\ttraining's l2: 0.361621\tvalid_1's l2: 0.42725\n",
      "[400]\ttraining's l2: 0.36137\tvalid_1's l2: 0.427153\n",
      "[450]\ttraining's l2: 0.361134\tvalid_1's l2: 0.427036\n",
      "[500]\ttraining's l2: 0.360911\tvalid_1's l2: 0.427055\n",
      "[550]\ttraining's l2: 0.3607\tvalid_1's l2: 0.426976\n",
      "[600]\ttraining's l2: 0.360476\tvalid_1's l2: 0.427016\n",
      "Early stopping, best iteration is:\n",
      "[563]\ttraining's l2: 0.360637\tvalid_1's l2: 0.426958\n",
      "mean_7_2017: 3807970.38\n",
      "mean_14_2017: 2626975.89\n",
      "mean_16_2017: 825629.61\n",
      "mean_3_2017: 800933.95\n",
      "==================================================\n",
      "Step 2\n",
      "==================================================\n"
     ]
    },
    {
     "name": "stderr",
     "output_type": "stream",
     "text": [
      "/Users/arkarmin/anaconda3/lib/python3.6/site-packages/lightgbm/basic.py:1186: UserWarning: Using categorical_feature in Dataset.\n",
      "  warnings.warn('Using categorical_feature in Dataset.')\n"
     ]
    },
    {
     "name": "stdout",
     "output_type": "stream",
     "text": [
      "Training until validation scores don't improve for 50 rounds.\n",
      "[50]\ttraining's l2: 0.381349\tvalid_1's l2: 0.384926\n",
      "[100]\ttraining's l2: 0.375689\tvalid_1's l2: 0.378575\n",
      "[150]\ttraining's l2: 0.375077\tvalid_1's l2: 0.378182\n",
      "[200]\ttraining's l2: 0.374649\tvalid_1's l2: 0.37797\n",
      "[250]\ttraining's l2: 0.374294\tvalid_1's l2: 0.37787\n",
      "[300]\ttraining's l2: 0.373964\tvalid_1's l2: 0.377774\n",
      "[350]\ttraining's l2: 0.373665\tvalid_1's l2: 0.377685\n",
      "[400]\ttraining's l2: 0.373392\tvalid_1's l2: 0.377648\n",
      "[450]\ttraining's l2: 0.373133\tvalid_1's l2: 0.377606\n",
      "[500]\ttraining's l2: 0.372897\tvalid_1's l2: 0.377587\n",
      "[550]\ttraining's l2: 0.372663\tvalid_1's l2: 0.377565\n",
      "Early stopping, best iteration is:\n",
      "[540]\ttraining's l2: 0.37271\tvalid_1's l2: 0.37755\n",
      "mean_14_2017: 4127619.80\n",
      "mean_7_2017: 3198956.93\n",
      "mean_16_2017: 765655.46\n",
      "mean_3_2017: 136652.06\n",
      "==================================================\n",
      "Step 3\n",
      "==================================================\n"
     ]
    },
    {
     "name": "stderr",
     "output_type": "stream",
     "text": [
      "/Users/arkarmin/anaconda3/lib/python3.6/site-packages/lightgbm/basic.py:1186: UserWarning: Using categorical_feature in Dataset.\n",
      "  warnings.warn('Using categorical_feature in Dataset.')\n"
     ]
    },
    {
     "name": "stdout",
     "output_type": "stream",
     "text": [
      "Training until validation scores don't improve for 50 rounds.\n",
      "[50]\ttraining's l2: 0.384958\tvalid_1's l2: 0.387765\n",
      "[100]\ttraining's l2: 0.380261\tvalid_1's l2: 0.378805\n",
      "[150]\ttraining's l2: 0.37975\tvalid_1's l2: 0.378174\n",
      "[200]\ttraining's l2: 0.379356\tvalid_1's l2: 0.378003\n",
      "[250]\ttraining's l2: 0.379028\tvalid_1's l2: 0.37794\n",
      "[300]\ttraining's l2: 0.378706\tvalid_1's l2: 0.377895\n",
      "[350]\ttraining's l2: 0.378434\tvalid_1's l2: 0.377876\n",
      "[400]\ttraining's l2: 0.37818\tvalid_1's l2: 0.377868\n",
      "[450]\ttraining's l2: 0.377954\tvalid_1's l2: 0.377844\n",
      "[500]\ttraining's l2: 0.377728\tvalid_1's l2: 0.37786\n",
      "Early stopping, best iteration is:\n",
      "[452]\ttraining's l2: 0.377945\tvalid_1's l2: 0.377838\n",
      "mean_14_2017: 4306384.66\n",
      "mean_7_2017: 1994618.61\n",
      "mean_16_2017: 522730.10\n",
      "mean_3_2017: 88194.58\n",
      "==================================================\n",
      "Step 4\n",
      "==================================================\n"
     ]
    },
    {
     "name": "stderr",
     "output_type": "stream",
     "text": [
      "/Users/arkarmin/anaconda3/lib/python3.6/site-packages/lightgbm/basic.py:1186: UserWarning: Using categorical_feature in Dataset.\n",
      "  warnings.warn('Using categorical_feature in Dataset.')\n"
     ]
    },
    {
     "name": "stdout",
     "output_type": "stream",
     "text": [
      "Training until validation scores don't improve for 50 rounds.\n",
      "[50]\ttraining's l2: 0.418273\tvalid_1's l2: 0.382595\n",
      "[100]\ttraining's l2: 0.412792\tvalid_1's l2: 0.378603\n",
      "[150]\ttraining's l2: 0.41221\tvalid_1's l2: 0.378677\n",
      "Early stopping, best iteration is:\n",
      "[111]\ttraining's l2: 0.412647\tvalid_1's l2: 0.378594\n",
      "mean_14_2017: 5149418.74\n",
      "mean_7_2017: 2210092.77\n",
      "mean_16_2017: 613802.88\n",
      "mean_3_2017: 62018.05\n",
      "==================================================\n",
      "Step 5\n",
      "==================================================\n"
     ]
    },
    {
     "name": "stderr",
     "output_type": "stream",
     "text": [
      "/Users/arkarmin/anaconda3/lib/python3.6/site-packages/lightgbm/basic.py:1186: UserWarning: Using categorical_feature in Dataset.\n",
      "  warnings.warn('Using categorical_feature in Dataset.')\n"
     ]
    },
    {
     "name": "stdout",
     "output_type": "stream",
     "text": [
      "Training until validation scores don't improve for 50 rounds.\n",
      "[50]\ttraining's l2: 0.423518\tvalid_1's l2: 0.468129\n",
      "Early stopping, best iteration is:\n",
      "[43]\ttraining's l2: 0.429117\tvalid_1's l2: 0.467558\n",
      "mean_16_2017: 4234686.73\n",
      "mean_14_2017: 3533538.23\n",
      "mean_7_2017: 723908.22\n",
      "mean_3_2017: 685620.86\n",
      "==================================================\n",
      "Step 6\n",
      "==================================================\n"
     ]
    },
    {
     "name": "stderr",
     "output_type": "stream",
     "text": [
      "/Users/arkarmin/anaconda3/lib/python3.6/site-packages/lightgbm/basic.py:1186: UserWarning: Using categorical_feature in Dataset.\n",
      "  warnings.warn('Using categorical_feature in Dataset.')\n"
     ]
    },
    {
     "name": "stdout",
     "output_type": "stream",
     "text": [
      "Training until validation scores don't improve for 50 rounds.\n",
      "[50]\ttraining's l2: 0.447672\tvalid_1's l2: 0.451184\n",
      "[100]\ttraining's l2: 0.440302\tvalid_1's l2: 0.450174\n",
      "Early stopping, best iteration is:\n",
      "[62]\ttraining's l2: 0.443156\tvalid_1's l2: 0.449948\n",
      "mean_16_2017: 7181691.75\n",
      "mean_3_2017: 1947370.09\n",
      "mean_14_2017: 747747.10\n",
      "mean_7_2017: 47133.66\n",
      "==================================================\n",
      "Step 7\n",
      "==================================================\n"
     ]
    },
    {
     "name": "stderr",
     "output_type": "stream",
     "text": [
      "/Users/arkarmin/anaconda3/lib/python3.6/site-packages/lightgbm/basic.py:1186: UserWarning: Using categorical_feature in Dataset.\n",
      "  warnings.warn('Using categorical_feature in Dataset.')\n"
     ]
    },
    {
     "name": "stdout",
     "output_type": "stream",
     "text": [
      "Training until validation scores don't improve for 50 rounds.\n",
      "[50]\ttraining's l2: 0.422603\tvalid_1's l2: 0.481494\n",
      "[100]\ttraining's l2: 0.417462\tvalid_1's l2: 0.470208\n",
      "[150]\ttraining's l2: 0.416957\tvalid_1's l2: 0.469704\n",
      "[200]\ttraining's l2: 0.416588\tvalid_1's l2: 0.469681\n",
      "[250]\ttraining's l2: 0.416245\tvalid_1's l2: 0.469566\n",
      "[300]\ttraining's l2: 0.415927\tvalid_1's l2: 0.469585\n",
      "Early stopping, best iteration is:\n",
      "[264]\ttraining's l2: 0.416148\tvalid_1's l2: 0.469522\n",
      "mean_16_2017: 5107342.67\n",
      "mean_7_2017: 1281470.66\n",
      "mean_14_2017: 1099066.60\n",
      "mean_3_2017: 376471.02\n",
      "==================================================\n",
      "Step 8\n",
      "==================================================\n"
     ]
    },
    {
     "name": "stderr",
     "output_type": "stream",
     "text": [
      "/Users/arkarmin/anaconda3/lib/python3.6/site-packages/lightgbm/basic.py:1186: UserWarning: Using categorical_feature in Dataset.\n",
      "  warnings.warn('Using categorical_feature in Dataset.')\n"
     ]
    },
    {
     "name": "stdout",
     "output_type": "stream",
     "text": [
      "Training until validation scores don't improve for 50 rounds.\n",
      "[50]\ttraining's l2: 0.424692\tvalid_1's l2: 0.550568\n",
      "[100]\ttraining's l2: 0.419836\tvalid_1's l2: 0.535266\n",
      "[150]\ttraining's l2: 0.419342\tvalid_1's l2: 0.534293\n",
      "[200]\ttraining's l2: 0.418936\tvalid_1's l2: 0.53408\n",
      "[250]\ttraining's l2: 0.418581\tvalid_1's l2: 0.533909\n",
      "[300]\ttraining's l2: 0.418252\tvalid_1's l2: 0.5338\n",
      "[350]\ttraining's l2: 0.417945\tvalid_1's l2: 0.533734\n",
      "[400]\ttraining's l2: 0.417659\tvalid_1's l2: 0.533679\n",
      "[450]\ttraining's l2: 0.417392\tvalid_1's l2: 0.533568\n",
      "Early stopping, best iteration is:\n",
      "[447]\ttraining's l2: 0.417409\tvalid_1's l2: 0.533538\n",
      "mean_14_2017: 3425437.19\n",
      "mean_16_2017: 2287314.95\n",
      "mean_7_2017: 1539500.60\n",
      "mean_3_2017: 101127.70\n",
      "==================================================\n",
      "Step 9\n",
      "==================================================\n"
     ]
    },
    {
     "name": "stderr",
     "output_type": "stream",
     "text": [
      "/Users/arkarmin/anaconda3/lib/python3.6/site-packages/lightgbm/basic.py:1186: UserWarning: Using categorical_feature in Dataset.\n",
      "  warnings.warn('Using categorical_feature in Dataset.')\n"
     ]
    },
    {
     "name": "stdout",
     "output_type": "stream",
     "text": [
      "Training until validation scores don't improve for 50 rounds.\n",
      "[50]\ttraining's l2: 0.429267\tvalid_1's l2: 0.456086\n",
      "[100]\ttraining's l2: 0.424204\tvalid_1's l2: 0.447393\n",
      "[150]\ttraining's l2: 0.423633\tvalid_1's l2: 0.446748\n",
      "[200]\ttraining's l2: 0.42321\tvalid_1's l2: 0.446558\n",
      "[250]\ttraining's l2: 0.422843\tvalid_1's l2: 0.446456\n",
      "[300]\ttraining's l2: 0.422508\tvalid_1's l2: 0.446415\n",
      "[350]\ttraining's l2: 0.422196\tvalid_1's l2: 0.446366\n",
      "[400]\ttraining's l2: 0.421911\tvalid_1's l2: 0.446348\n",
      "[450]\ttraining's l2: 0.42162\tvalid_1's l2: 0.446299\n",
      "Early stopping, best iteration is:\n",
      "[419]\ttraining's l2: 0.421799\tvalid_1's l2: 0.446284\n",
      "mean_14_2017: 4158176.36\n",
      "mean_16_2017: 1762261.04\n",
      "mean_7_2017: 1668213.70\n",
      "mean_3_2017: 45008.26\n",
      "==================================================\n",
      "Step 10\n",
      "==================================================\n"
     ]
    },
    {
     "name": "stderr",
     "output_type": "stream",
     "text": [
      "/Users/arkarmin/anaconda3/lib/python3.6/site-packages/lightgbm/basic.py:1186: UserWarning: Using categorical_feature in Dataset.\n",
      "  warnings.warn('Using categorical_feature in Dataset.')\n"
     ]
    },
    {
     "name": "stdout",
     "output_type": "stream",
     "text": [
      "Training until validation scores don't improve for 50 rounds.\n",
      "[50]\ttraining's l2: 0.42151\tvalid_1's l2: 0.555233\n",
      "[100]\ttraining's l2: 0.417027\tvalid_1's l2: 0.539552\n",
      "[150]\ttraining's l2: 0.416486\tvalid_1's l2: 0.538239\n",
      "[200]\ttraining's l2: 0.416039\tvalid_1's l2: 0.537804\n",
      "[250]\ttraining's l2: 0.41566\tvalid_1's l2: 0.537534\n",
      "[300]\ttraining's l2: 0.415305\tvalid_1's l2: 0.537264\n",
      "[350]\ttraining's l2: 0.41498\tvalid_1's l2: 0.537196\n",
      "[400]\ttraining's l2: 0.414694\tvalid_1's l2: 0.537102\n",
      "[450]\ttraining's l2: 0.414417\tvalid_1's l2: 0.537128\n",
      "Early stopping, best iteration is:\n",
      "[414]\ttraining's l2: 0.414616\tvalid_1's l2: 0.536992\n",
      "mean_14_2017: 3020910.41\n",
      "mean_16_2017: 2282570.14\n",
      "mean_7_2017: 1224623.57\n",
      "mean_3_2017: 39787.12\n",
      "==================================================\n",
      "Step 11\n",
      "==================================================\n"
     ]
    },
    {
     "name": "stderr",
     "output_type": "stream",
     "text": [
      "/Users/arkarmin/anaconda3/lib/python3.6/site-packages/lightgbm/basic.py:1186: UserWarning: Using categorical_feature in Dataset.\n",
      "  warnings.warn('Using categorical_feature in Dataset.')\n"
     ]
    },
    {
     "name": "stdout",
     "output_type": "stream",
     "text": [
      "Training until validation scores don't improve for 50 rounds.\n",
      "[50]\ttraining's l2: 0.456733\tvalid_1's l2: 0.479223\n",
      "[100]\ttraining's l2: 0.45151\tvalid_1's l2: 0.468554\n",
      "[150]\ttraining's l2: 0.450879\tvalid_1's l2: 0.467857\n",
      "[200]\ttraining's l2: 0.450412\tvalid_1's l2: 0.467703\n",
      "[250]\ttraining's l2: 0.449977\tvalid_1's l2: 0.46767\n",
      "Early stopping, best iteration is:\n",
      "[235]\ttraining's l2: 0.450103\tvalid_1's l2: 0.467645\n",
      "mean_16_2017: 3805722.85\n",
      "mean_14_2017: 2844866.74\n",
      "mean_7_2017: 948933.32\n",
      "mean_3_2017: 39209.20\n",
      "==================================================\n",
      "Step 12\n",
      "==================================================\n"
     ]
    },
    {
     "name": "stderr",
     "output_type": "stream",
     "text": [
      "/Users/arkarmin/anaconda3/lib/python3.6/site-packages/lightgbm/basic.py:1186: UserWarning: Using categorical_feature in Dataset.\n",
      "  warnings.warn('Using categorical_feature in Dataset.')\n"
     ]
    },
    {
     "name": "stdout",
     "output_type": "stream",
     "text": [
      "Training until validation scores don't improve for 50 rounds.\n",
      "[50]\ttraining's l2: 0.465984\tvalid_1's l2: 0.474866\n",
      "[100]\ttraining's l2: 0.460127\tvalid_1's l2: 0.477987\n",
      "Early stopping, best iteration is:\n",
      "[50]\ttraining's l2: 0.465984\tvalid_1's l2: 0.474866\n",
      "mean_16_2017: 6893409.95\n",
      "mean_14_2017: 926158.08\n",
      "mean_3_2017: 471974.34\n",
      "mean_7_2017: 415067.56\n",
      "==================================================\n",
      "Step 13\n",
      "==================================================\n"
     ]
    },
    {
     "name": "stderr",
     "output_type": "stream",
     "text": [
      "/Users/arkarmin/anaconda3/lib/python3.6/site-packages/lightgbm/basic.py:1186: UserWarning: Using categorical_feature in Dataset.\n",
      "  warnings.warn('Using categorical_feature in Dataset.')\n"
     ]
    },
    {
     "name": "stdout",
     "output_type": "stream",
     "text": [
      "Training until validation scores don't improve for 50 rounds.\n",
      "[50]\ttraining's l2: 0.489772\tvalid_1's l2: 0.479589\n",
      "[100]\ttraining's l2: 0.482043\tvalid_1's l2: 0.478059\n",
      "[150]\ttraining's l2: 0.480801\tvalid_1's l2: 0.477105\n",
      "[200]\ttraining's l2: 0.479965\tvalid_1's l2: 0.476348\n",
      "[250]\ttraining's l2: 0.479292\tvalid_1's l2: 0.475862\n",
      "[300]\ttraining's l2: 0.478793\tvalid_1's l2: 0.475489\n",
      "[350]\ttraining's l2: 0.478326\tvalid_1's l2: 0.475254\n",
      "[400]\ttraining's l2: 0.477938\tvalid_1's l2: 0.475127\n",
      "[450]\ttraining's l2: 0.477568\tvalid_1's l2: 0.474979\n",
      "[500]\ttraining's l2: 0.477227\tvalid_1's l2: 0.47487\n",
      "[550]\ttraining's l2: 0.476912\tvalid_1's l2: 0.474791\n",
      "[600]\ttraining's l2: 0.476621\tvalid_1's l2: 0.474791\n",
      "Early stopping, best iteration is:\n",
      "[558]\ttraining's l2: 0.476869\tvalid_1's l2: 0.47477\n",
      "mean_16_2017: 7382575.47\n",
      "mean_3_2017: 1196843.01\n",
      "mean_14_2017: 835283.41\n",
      "mean_7_2017: 45159.32\n",
      "==================================================\n",
      "Step 14\n",
      "==================================================\n"
     ]
    },
    {
     "name": "stderr",
     "output_type": "stream",
     "text": [
      "/Users/arkarmin/anaconda3/lib/python3.6/site-packages/lightgbm/basic.py:1186: UserWarning: Using categorical_feature in Dataset.\n",
      "  warnings.warn('Using categorical_feature in Dataset.')\n"
     ]
    },
    {
     "name": "stdout",
     "output_type": "stream",
     "text": [
      "Training until validation scores don't improve for 50 rounds.\n",
      "[50]\ttraining's l2: 0.45484\tvalid_1's l2: 0.508133\n",
      "[100]\ttraining's l2: 0.449581\tvalid_1's l2: 0.498596\n",
      "[150]\ttraining's l2: 0.448914\tvalid_1's l2: 0.49794\n",
      "[200]\ttraining's l2: 0.448358\tvalid_1's l2: 0.497613\n",
      "[250]\ttraining's l2: 0.447893\tvalid_1's l2: 0.497359\n",
      "[300]\ttraining's l2: 0.447521\tvalid_1's l2: 0.497173\n",
      "[350]\ttraining's l2: 0.447156\tvalid_1's l2: 0.497009\n",
      "[400]\ttraining's l2: 0.446837\tvalid_1's l2: 0.496957\n",
      "[450]\ttraining's l2: 0.446517\tvalid_1's l2: 0.496833\n",
      "[500]\ttraining's l2: 0.446215\tvalid_1's l2: 0.496815\n",
      "[550]\ttraining's l2: 0.445939\tvalid_1's l2: 0.496747\n",
      "[600]\ttraining's l2: 0.445688\tvalid_1's l2: 0.496668\n",
      "Early stopping, best iteration is:\n",
      "[581]\ttraining's l2: 0.445786\tvalid_1's l2: 0.496622\n",
      "mean_16_2017: 6114007.08\n",
      "mean_14_2017: 892541.73\n",
      "mean_3_2017: 306482.52\n",
      "mean_7_2017: 266556.08\n",
      "==================================================\n",
      "Step 15\n",
      "==================================================\n"
     ]
    },
    {
     "name": "stderr",
     "output_type": "stream",
     "text": [
      "/Users/arkarmin/anaconda3/lib/python3.6/site-packages/lightgbm/basic.py:1186: UserWarning: Using categorical_feature in Dataset.\n",
      "  warnings.warn('Using categorical_feature in Dataset.')\n"
     ]
    },
    {
     "name": "stdout",
     "output_type": "stream",
     "text": [
      "Training until validation scores don't improve for 50 rounds.\n",
      "[50]\ttraining's l2: 0.453672\tvalid_1's l2: 0.582683\n",
      "[100]\ttraining's l2: 0.448899\tvalid_1's l2: 0.569345\n",
      "[150]\ttraining's l2: 0.448322\tvalid_1's l2: 0.568518\n",
      "[200]\ttraining's l2: 0.447871\tvalid_1's l2: 0.568275\n",
      "[250]\ttraining's l2: 0.447454\tvalid_1's l2: 0.56802\n",
      "[300]\ttraining's l2: 0.447108\tvalid_1's l2: 0.567884\n",
      "[350]\ttraining's l2: 0.446763\tvalid_1's l2: 0.567597\n",
      "[400]\ttraining's l2: 0.446472\tvalid_1's l2: 0.567535\n",
      "[450]\ttraining's l2: 0.446183\tvalid_1's l2: 0.567485\n",
      "[500]\ttraining's l2: 0.445913\tvalid_1's l2: 0.567417\n",
      "[550]\ttraining's l2: 0.445656\tvalid_1's l2: 0.567248\n",
      "[600]\ttraining's l2: 0.445403\tvalid_1's l2: 0.567087\n",
      "[650]\ttraining's l2: 0.445173\tvalid_1's l2: 0.567004\n",
      "[700]\ttraining's l2: 0.44494\tvalid_1's l2: 0.567075\n",
      "Early stopping, best iteration is:\n",
      "[663]\ttraining's l2: 0.445115\tvalid_1's l2: 0.566973\n",
      "mean_16_2017: 5354421.58\n",
      "mean_7_2017: 857986.75\n",
      "mean_14_2017: 757323.21\n",
      "mean_3_2017: 78267.09\n",
      "==================================================\n",
      "Step 16\n",
      "==================================================\n"
     ]
    },
    {
     "name": "stderr",
     "output_type": "stream",
     "text": [
      "/Users/arkarmin/anaconda3/lib/python3.6/site-packages/lightgbm/basic.py:1186: UserWarning: Using categorical_feature in Dataset.\n",
      "  warnings.warn('Using categorical_feature in Dataset.')\n"
     ]
    },
    {
     "name": "stdout",
     "output_type": "stream",
     "text": [
      "Training until validation scores don't improve for 50 rounds.\n",
      "[50]\ttraining's l2: 0.457156\tvalid_1's l2: 0.467861\n",
      "[100]\ttraining's l2: 0.452134\tvalid_1's l2: 0.462394\n",
      "[150]\ttraining's l2: 0.451494\tvalid_1's l2: 0.462099\n",
      "[200]\ttraining's l2: 0.450996\tvalid_1's l2: 0.461889\n",
      "[250]\ttraining's l2: 0.450589\tvalid_1's l2: 0.461797\n",
      "[300]\ttraining's l2: 0.450213\tvalid_1's l2: 0.461739\n",
      "[350]\ttraining's l2: 0.449868\tvalid_1's l2: 0.461642\n",
      "[400]\ttraining's l2: 0.44955\tvalid_1's l2: 0.461615\n",
      "[450]\ttraining's l2: 0.449255\tvalid_1's l2: 0.461626\n",
      "Early stopping, best iteration is:\n",
      "[435]\ttraining's l2: 0.449346\tvalid_1's l2: 0.461579\n",
      "mean_16_2017: 5397576.08\n",
      "mean_14_2017: 1240679.91\n",
      "mean_7_2017: 639201.74\n",
      "mean_3_2017: 43652.32\n",
      "Validation mse: 0.46295235234770776\n"
     ]
    }
   ],
   "source": [
    "print(\"Training and predicting models...\")\n",
    "params = {\n",
    "    'num_leaves': 80,\n",
    "    'objective': 'regression',\n",
    "    'min_data_in_leaf': 200,\n",
    "    'learning_rate': 0.02,\n",
    "    'feature_fraction': 0.8,\n",
    "    'bagging_fraction': 0.7,\n",
    "    'bagging_freq': 1,\n",
    "    'metric': 'l2',\n",
    "    'num_threads': 16\n",
    "}\n",
    "\n",
    "MAX_ROUNDS = 5000\n",
    "val_pred = []\n",
    "test_pred = []\n",
    "cate_vars = []\n",
    "for i in range(16):\n",
    "    print(\"=\" * 50)\n",
    "    print(\"Step %d\" % (i+1))\n",
    "    print(\"=\" * 50)\n",
    "    dtrain = lgb.Dataset(\n",
    "        X_train, label=y_train[:, i],\n",
    "        categorical_feature=cate_vars,\n",
    "    )\n",
    "    \n",
    "    dval = lgb.Dataset(\n",
    "        X_val, label=y_val[:, i], reference=dtrain,\n",
    "        categorical_feature=cate_vars)\n",
    "    \n",
    "    bst = lgb.train(\n",
    "        params, dtrain, num_boost_round=MAX_ROUNDS,\n",
    "        valid_sets=[dtrain, dval], early_stopping_rounds=50, verbose_eval=50\n",
    "    )\n",
    "    \n",
    "    print(\"\\n\".join((\"%s: %.2f\" % x) for x in sorted(\n",
    "        zip(X_train.columns, bst.feature_importance(\"gain\")),\n",
    "        key=lambda x: x[1], reverse=True\n",
    "    )))\n",
    "    val_pred.append(bst.predict(\n",
    "        X_val, num_iteration=bst.best_iteration or MAX_ROUNDS))\n",
    "    test_pred.append(bst.predict(\n",
    "        X_test, num_iteration=bst.best_iteration or MAX_ROUNDS))\n",
    "\n",
    "print(\"Validation mse:\", mean_squared_error(\n",
    "    y_val, np.array(val_pred).transpose()))\n",
    "\n"
   ]
  },
  {
   "cell_type": "code",
   "execution_count": 13,
   "metadata": {},
   "outputs": [
    {
     "name": "stdout",
     "output_type": "stream",
     "text": [
      "Making submission...\n"
     ]
    }
   ],
   "source": [
    "print(\"Making submission...\")\n",
    "y_test = np.array(test_pred).transpose()\n",
    "df_preds = pd.DataFrame(\n",
    "    y_test, index=df_train.index,\n",
    "    columns=pd.date_range(\"2017-08-16\", periods=16)\n",
    ").stack().to_frame(\"unit_sales\")\n",
    "df_preds.index.set_names([\"store_nbr\", \"item_nbr\", \"date\"], inplace=True)\n",
    "\n",
    "submission = df_test[[\"id\"]].join(df_preds, how=\"left\").fillna(0)\n",
    "submission[\"unit_sales\"] = np.clip(np.expm1(submission[\"unit_sales\"]), 0, 1000)\n",
    "submission.to_csv('modified_1.csv', float_format='%.4f', index=None)"
   ]
  }
 ],
 "metadata": {
  "kernelspec": {
   "display_name": "Python 3",
   "language": "python",
   "name": "python3"
  },
  "language_info": {
   "codemirror_mode": {
    "name": "ipython",
    "version": 3
   },
   "file_extension": ".py",
   "mimetype": "text/x-python",
   "name": "python",
   "nbconvert_exporter": "python",
   "pygments_lexer": "ipython3",
   "version": "3.6.0"
  }
 },
 "nbformat": 4,
 "nbformat_minor": 2
}
