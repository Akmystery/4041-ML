{
 "cells": [
  {
   "cell_type": "code",
   "execution_count": 5,
   "metadata": {},
   "outputs": [],
   "source": [
    "from datetime import date, timedelta\n",
    "import pandas as pd\n",
    "import numpy as np\n",
    "from sklearn.metrics import mean_squared_error\n",
    "from statsmodels.tsa.arima_model import ARIMA\n",
    "import matplotlib as plp\n",
    "import lightgbm as lgb"
   ]
  },
  {
   "cell_type": "code",
   "execution_count": 6,
   "metadata": {},
   "outputs": [],
   "source": [
    "df_train = pd.read_csv(\n",
    "    '../Data/train_set.csv', usecols=[1, 2, 3, 4],\n",
    "    converters={'unit_sales': lambda u: np.log1p(\n",
    "        float(u)) if float(u) > 0 else 0},\n",
    "    parse_dates=[\"date\"]\n",
    ")"
   ]
  },
  {
   "cell_type": "code",
   "execution_count": 7,
   "metadata": {},
   "outputs": [],
   "source": [
    "df_test = pd.read_csv(\n",
    "    \"../Data/test.csv\", usecols=[0, 1, 2, 3, 4],\n",
    "    dtype={'onpromotion': bool},\n",
    "    parse_dates=[\"date\"]  # , date_parser=parser\n",
    ").set_index(\n",
    "    ['store_nbr', 'item_nbr', 'date']\n",
    ")"
   ]
  },
  {
   "cell_type": "code",
   "execution_count": 8,
   "metadata": {},
   "outputs": [],
   "source": [
    "items = pd.read_csv(\n",
    "    \"../Data/items.csv\",\n",
    ").set_index(\"item_nbr\")"
   ]
  },
  {
   "cell_type": "code",
   "execution_count": 9,
   "metadata": {},
   "outputs": [],
   "source": [
    "df_train = df_train.set_index(\n",
    "    [\"store_nbr\", \"item_nbr\", \"date\"])[[\"unit_sales\"]].unstack(\n",
    "        level=-1).fillna(0)\n",
    "df_train.columns = df_train.columns.get_level_values(1)"
   ]
  },
  {
   "cell_type": "code",
   "execution_count": 10,
   "metadata": {},
   "outputs": [],
   "source": [
    "items = items.reindex(df_train.index.get_level_values(1))"
   ]
  },
  {
   "cell_type": "code",
   "execution_count": 11,
   "metadata": {},
   "outputs": [],
   "source": [
    "def get_timespan(df, dt, minus, periods):\n",
    "    return df[\n",
    "        pd.date_range(dt - timedelta(days=minus), periods=periods)\n",
    "    ]"
   ]
  },
  {
   "cell_type": "code",
   "execution_count": 12,
   "metadata": {},
   "outputs": [],
   "source": [
    "def prepare_dataset(t2017, is_train=True):\n",
    "    X = pd.DataFrame({\n",
    "        \"mean_3_2017\": get_timespan(df_train, t2017, 3, 3).mean(axis=1).values,\n",
    "        \"mean_7_2017\": get_timespan(df_train, t2017, 7, 7).mean(axis=1).values,\n",
    "        \"mean_14_2017\": get_timespan(df_train, t2017, 14, 14).mean(axis=1).values,\n",
    "        \"mean_16_2017\": get_timespan(df_train, t2017, 16, 16).mean(axis=1).values\n",
    "    })\n",
    "    if is_train:\n",
    "        y = df_train[\n",
    "            pd.date_range(t2017, periods=16)\n",
    "        ].values\n",
    "        return X, y\n",
    "    return X"
   ]
  },
  {
   "cell_type": "code",
   "execution_count": 13,
   "metadata": {},
   "outputs": [
    {
     "name": "stdout",
     "output_type": "stream",
     "text": [
      "Preparing dataset...\n"
     ]
    }
   ],
   "source": [
    "print(\"Preparing dataset...\")\n",
    "t2017 = date(2017, 5, 16)\n",
    "X_l, y_l = [], []\n",
    "for i in range(9):\n",
    "    delta = timedelta(days=7 * i)\n",
    "    X_tmp, y_tmp = prepare_dataset(t2017 + delta)\n",
    "    X_l.append(X_tmp)\n",
    "    y_l.append(y_tmp)\n",
    "X_train = pd.concat(X_l, axis=0)\n",
    "y_train = np.concatenate(y_l, axis=0)\n",
    "del X_l, y_l"
   ]
  },
  {
   "cell_type": "code",
   "execution_count": 14,
   "metadata": {},
   "outputs": [],
   "source": [
    "X_val, y_val = prepare_dataset(date(2017, 7, 23))"
   ]
  },
  {
   "cell_type": "code",
   "execution_count": 15,
   "metadata": {},
   "outputs": [],
   "source": [
    "X_test = prepare_dataset(date(2017, 8, 16), is_train=False)"
   ]
  },
  {
   "cell_type": "code",
   "execution_count": 17,
   "metadata": {},
   "outputs": [
    {
     "name": "stdout",
     "output_type": "stream",
     "text": [
      "Training and predicting models...\n",
      "==================================================\n",
      "Step 1\n",
      "==================================================\n"
     ]
    },
    {
     "name": "stderr",
     "output_type": "stream",
     "text": [
      "/Users/arkarmin/anaconda3/lib/python3.6/site-packages/lightgbm/basic.py:1186: UserWarning: Using categorical_feature in Dataset.\n",
      "  warnings.warn('Using categorical_feature in Dataset.')\n"
     ]
    },
    {
     "name": "stdout",
     "output_type": "stream",
     "text": [
      "Training until validation scores don't improve for 50 rounds.\n",
      "[50]\ttraining's l2: 0.464951\tvalid_1's l2: 0.579554\n",
      "[100]\ttraining's l2: 0.380001\tvalid_1's l2: 0.460505\n",
      "[150]\ttraining's l2: 0.368057\tvalid_1's l2: 0.436342\n",
      "[200]\ttraining's l2: 0.366136\tvalid_1's l2: 0.429946\n",
      "[250]\ttraining's l2: 0.365604\tvalid_1's l2: 0.42805\n",
      "[300]\ttraining's l2: 0.365295\tvalid_1's l2: 0.427396\n",
      "[350]\ttraining's l2: 0.365064\tvalid_1's l2: 0.427158\n",
      "[400]\ttraining's l2: 0.364848\tvalid_1's l2: 0.42704\n",
      "[450]\ttraining's l2: 0.364648\tvalid_1's l2: 0.427032\n",
      "[500]\ttraining's l2: 0.364455\tvalid_1's l2: 0.426979\n",
      "[550]\ttraining's l2: 0.364261\tvalid_1's l2: 0.426946\n",
      "[600]\ttraining's l2: 0.364072\tvalid_1's l2: 0.426988\n",
      "Early stopping, best iteration is:\n",
      "[551]\ttraining's l2: 0.364257\tvalid_1's l2: 0.426942\n",
      "mean_14_2017: 8769569.52\n",
      "mean_7_2017: 8301834.56\n",
      "mean_16_2017: 1758688.03\n",
      "mean_3_2017: 1083723.72\n",
      "==================================================\n",
      "Step 2\n",
      "==================================================\n"
     ]
    },
    {
     "name": "stderr",
     "output_type": "stream",
     "text": [
      "/Users/arkarmin/anaconda3/lib/python3.6/site-packages/lightgbm/basic.py:1186: UserWarning: Using categorical_feature in Dataset.\n",
      "  warnings.warn('Using categorical_feature in Dataset.')\n"
     ]
    },
    {
     "name": "stdout",
     "output_type": "stream",
     "text": [
      "Training until validation scores don't improve for 50 rounds.\n",
      "[50]\ttraining's l2: 0.478981\tvalid_1's l2: 0.483198\n",
      "[100]\ttraining's l2: 0.391964\tvalid_1's l2: 0.394729\n",
      "[150]\ttraining's l2: 0.379774\tvalid_1's l2: 0.381855\n",
      "[200]\ttraining's l2: 0.377792\tvalid_1's l2: 0.379788\n",
      "[250]\ttraining's l2: 0.37723\tvalid_1's l2: 0.379337\n",
      "[300]\ttraining's l2: 0.376895\tvalid_1's l2: 0.379195\n",
      "[350]\ttraining's l2: 0.37664\tvalid_1's l2: 0.379143\n",
      "[400]\ttraining's l2: 0.376406\tvalid_1's l2: 0.379091\n",
      "[450]\ttraining's l2: 0.376189\tvalid_1's l2: 0.379078\n",
      "[500]\ttraining's l2: 0.375986\tvalid_1's l2: 0.379069\n",
      "[550]\ttraining's l2: 0.375791\tvalid_1's l2: 0.379066\n",
      "Early stopping, best iteration is:\n",
      "[524]\ttraining's l2: 0.37589\tvalid_1's l2: 0.379055\n",
      "mean_14_2017: 12773027.38\n",
      "mean_7_2017: 5310976.57\n",
      "mean_16_2017: 2173881.34\n",
      "mean_3_2017: 200379.92\n",
      "==================================================\n",
      "Step 3\n",
      "==================================================\n"
     ]
    },
    {
     "name": "stderr",
     "output_type": "stream",
     "text": [
      "/Users/arkarmin/anaconda3/lib/python3.6/site-packages/lightgbm/basic.py:1186: UserWarning: Using categorical_feature in Dataset.\n",
      "  warnings.warn('Using categorical_feature in Dataset.')\n"
     ]
    },
    {
     "name": "stdout",
     "output_type": "stream",
     "text": [
      "Training until validation scores don't improve for 50 rounds.\n",
      "[50]\ttraining's l2: 0.465703\tvalid_1's l2: 0.487723\n",
      "[100]\ttraining's l2: 0.393105\tvalid_1's l2: 0.40121\n",
      "[150]\ttraining's l2: 0.382938\tvalid_1's l2: 0.38582\n",
      "[200]\ttraining's l2: 0.381266\tvalid_1's l2: 0.382328\n",
      "[250]\ttraining's l2: 0.380777\tvalid_1's l2: 0.381295\n",
      "[300]\ttraining's l2: 0.38047\tvalid_1's l2: 0.380925\n",
      "[350]\ttraining's l2: 0.380228\tvalid_1's l2: 0.380773\n",
      "[400]\ttraining's l2: 0.380005\tvalid_1's l2: 0.380698\n",
      "[450]\ttraining's l2: 0.379799\tvalid_1's l2: 0.380651\n",
      "[500]\ttraining's l2: 0.379608\tvalid_1's l2: 0.380632\n",
      "[550]\ttraining's l2: 0.379423\tvalid_1's l2: 0.380599\n",
      "[600]\ttraining's l2: 0.379238\tvalid_1's l2: 0.380586\n",
      "[650]\ttraining's l2: 0.379054\tvalid_1's l2: 0.380597\n",
      "Early stopping, best iteration is:\n",
      "[602]\ttraining's l2: 0.37923\tvalid_1's l2: 0.380582\n",
      "mean_14_2017: 11649181.52\n",
      "mean_7_2017: 3350611.02\n",
      "mean_16_2017: 1955409.53\n",
      "mean_3_2017: 162224.98\n",
      "==================================================\n",
      "Step 4\n",
      "==================================================\n"
     ]
    },
    {
     "name": "stderr",
     "output_type": "stream",
     "text": [
      "/Users/arkarmin/anaconda3/lib/python3.6/site-packages/lightgbm/basic.py:1186: UserWarning: Using categorical_feature in Dataset.\n",
      "  warnings.warn('Using categorical_feature in Dataset.')\n"
     ]
    },
    {
     "name": "stdout",
     "output_type": "stream",
     "text": [
      "Training until validation scores don't improve for 50 rounds.\n",
      "[50]\ttraining's l2: 0.512816\tvalid_1's l2: 0.47343\n",
      "[100]\ttraining's l2: 0.427904\tvalid_1's l2: 0.392492\n",
      "[150]\ttraining's l2: 0.416008\tvalid_1's l2: 0.382224\n",
      "[200]\ttraining's l2: 0.414037\tvalid_1's l2: 0.381161\n",
      "[250]\ttraining's l2: 0.413455\tvalid_1's l2: 0.381167\n",
      "Early stopping, best iteration is:\n",
      "[216]\ttraining's l2: 0.413797\tvalid_1's l2: 0.381118\n",
      "mean_14_2017: 13698272.51\n",
      "mean_7_2017: 4021390.86\n",
      "mean_16_2017: 2086858.15\n",
      "mean_3_2017: 137450.68\n",
      "==================================================\n",
      "Step 5\n",
      "==================================================\n"
     ]
    },
    {
     "name": "stderr",
     "output_type": "stream",
     "text": [
      "/Users/arkarmin/anaconda3/lib/python3.6/site-packages/lightgbm/basic.py:1186: UserWarning: Using categorical_feature in Dataset.\n",
      "  warnings.warn('Using categorical_feature in Dataset.')\n"
     ]
    },
    {
     "name": "stdout",
     "output_type": "stream",
     "text": [
      "Training until validation scores don't improve for 50 rounds.\n",
      "[50]\ttraining's l2: 0.530927\tvalid_1's l2: 0.518435\n",
      "[100]\ttraining's l2: 0.433195\tvalid_1's l2: 0.468258\n",
      "[150]\ttraining's l2: 0.419643\tvalid_1's l2: 0.470275\n",
      "Early stopping, best iteration is:\n",
      "[112]\ttraining's l2: 0.427302\tvalid_1's l2: 0.467844\n",
      "mean_16_2017: 11250356.31\n",
      "mean_14_2017: 9304527.95\n",
      "mean_3_2017: 1155191.75\n",
      "mean_7_2017: 936043.16\n",
      "==================================================\n",
      "Step 6\n",
      "==================================================\n"
     ]
    },
    {
     "name": "stderr",
     "output_type": "stream",
     "text": [
      "/Users/arkarmin/anaconda3/lib/python3.6/site-packages/lightgbm/basic.py:1186: UserWarning: Using categorical_feature in Dataset.\n",
      "  warnings.warn('Using categorical_feature in Dataset.')\n"
     ]
    },
    {
     "name": "stdout",
     "output_type": "stream",
     "text": [
      "Training until validation scores don't improve for 50 rounds.\n",
      "[50]\ttraining's l2: 0.563707\tvalid_1's l2: 0.531267\n",
      "[100]\ttraining's l2: 0.458219\tvalid_1's l2: 0.456205\n",
      "[150]\ttraining's l2: 0.442993\tvalid_1's l2: 0.449587\n",
      "[200]\ttraining's l2: 0.440278\tvalid_1's l2: 0.449733\n",
      "Early stopping, best iteration is:\n",
      "[160]\ttraining's l2: 0.442114\tvalid_1's l2: 0.449453\n",
      "mean_16_2017: 17509311.11\n",
      "mean_3_2017: 4154135.20\n",
      "mean_14_2017: 2670963.08\n",
      "mean_7_2017: 143780.23\n",
      "==================================================\n",
      "Step 7\n",
      "==================================================\n"
     ]
    },
    {
     "name": "stderr",
     "output_type": "stream",
     "text": [
      "/Users/arkarmin/anaconda3/lib/python3.6/site-packages/lightgbm/basic.py:1186: UserWarning: Using categorical_feature in Dataset.\n",
      "  warnings.warn('Using categorical_feature in Dataset.')\n"
     ]
    },
    {
     "name": "stdout",
     "output_type": "stream",
     "text": [
      "Training until validation scores don't improve for 50 rounds.\n",
      "[50]\ttraining's l2: 0.514785\tvalid_1's l2: 0.595608\n",
      "[100]\ttraining's l2: 0.432278\tvalid_1's l2: 0.493438\n",
      "[150]\ttraining's l2: 0.420839\tvalid_1's l2: 0.474511\n",
      "[200]\ttraining's l2: 0.418986\tvalid_1's l2: 0.469938\n",
      "[250]\ttraining's l2: 0.418465\tvalid_1's l2: 0.468615\n",
      "[300]\ttraining's l2: 0.418167\tvalid_1's l2: 0.468189\n",
      "[350]\ttraining's l2: 0.417924\tvalid_1's l2: 0.468027\n",
      "[400]\ttraining's l2: 0.4177\tvalid_1's l2: 0.467973\n",
      "[450]\ttraining's l2: 0.417492\tvalid_1's l2: 0.467921\n",
      "[500]\ttraining's l2: 0.41729\tvalid_1's l2: 0.467906\n",
      "[550]\ttraining's l2: 0.417091\tvalid_1's l2: 0.467886\n",
      "[600]\ttraining's l2: 0.416899\tvalid_1's l2: 0.467907\n",
      "Early stopping, best iteration is:\n",
      "[567]\ttraining's l2: 0.417026\tvalid_1's l2: 0.467863\n",
      "mean_16_2017: 14221102.35\n",
      "mean_14_2017: 3519601.89\n",
      "mean_7_2017: 1339508.50\n",
      "mean_3_2017: 391676.33\n",
      "==================================================\n",
      "Step 8\n",
      "==================================================\n"
     ]
    },
    {
     "name": "stderr",
     "output_type": "stream",
     "text": [
      "/Users/arkarmin/anaconda3/lib/python3.6/site-packages/lightgbm/basic.py:1186: UserWarning: Using categorical_feature in Dataset.\n",
      "  warnings.warn('Using categorical_feature in Dataset.')\n"
     ]
    },
    {
     "name": "stdout",
     "output_type": "stream",
     "text": [
      "Training until validation scores don't improve for 50 rounds.\n",
      "[50]\ttraining's l2: 0.511959\tvalid_1's l2: 0.679019\n",
      "[100]\ttraining's l2: 0.434904\tvalid_1's l2: 0.565912\n",
      "[150]\ttraining's l2: 0.424197\tvalid_1's l2: 0.541992\n",
      "[200]\ttraining's l2: 0.422446\tvalid_1's l2: 0.535444\n",
      "[250]\ttraining's l2: 0.421939\tvalid_1's l2: 0.533356\n",
      "[300]\ttraining's l2: 0.421626\tvalid_1's l2: 0.532534\n",
      "[350]\ttraining's l2: 0.421372\tvalid_1's l2: 0.532201\n",
      "[400]\ttraining's l2: 0.421141\tvalid_1's l2: 0.532008\n",
      "[450]\ttraining's l2: 0.420927\tvalid_1's l2: 0.531893\n",
      "[500]\ttraining's l2: 0.420719\tvalid_1's l2: 0.531824\n",
      "[550]\ttraining's l2: 0.420515\tvalid_1's l2: 0.531795\n",
      "[600]\ttraining's l2: 0.420305\tvalid_1's l2: 0.531749\n",
      "[650]\ttraining's l2: 0.420105\tvalid_1's l2: 0.531717\n",
      "Early stopping, best iteration is:\n",
      "[636]\ttraining's l2: 0.420164\tvalid_1's l2: 0.53168\n",
      "mean_14_2017: 9789079.32\n",
      "mean_16_2017: 6185340.78\n",
      "mean_7_2017: 2099501.64\n",
      "mean_3_2017: 150769.69\n",
      "==================================================\n",
      "Step 9\n",
      "==================================================\n"
     ]
    },
    {
     "name": "stderr",
     "output_type": "stream",
     "text": [
      "/Users/arkarmin/anaconda3/lib/python3.6/site-packages/lightgbm/basic.py:1186: UserWarning: Using categorical_feature in Dataset.\n",
      "  warnings.warn('Using categorical_feature in Dataset.')\n"
     ]
    },
    {
     "name": "stdout",
     "output_type": "stream",
     "text": [
      "Training until validation scores don't improve for 50 rounds.\n",
      "[50]\ttraining's l2: 0.519939\tvalid_1's l2: 0.555399\n",
      "[100]\ttraining's l2: 0.439304\tvalid_1's l2: 0.464933\n",
      "[150]\ttraining's l2: 0.428044\tvalid_1's l2: 0.450063\n",
      "[200]\ttraining's l2: 0.426172\tvalid_1's l2: 0.447028\n",
      "[250]\ttraining's l2: 0.425632\tvalid_1's l2: 0.446224\n",
      "[300]\ttraining's l2: 0.425299\tvalid_1's l2: 0.44595\n",
      "[350]\ttraining's l2: 0.425037\tvalid_1's l2: 0.445861\n",
      "[400]\ttraining's l2: 0.424786\tvalid_1's l2: 0.445786\n",
      "[450]\ttraining's l2: 0.424559\tvalid_1's l2: 0.445771\n",
      "[500]\ttraining's l2: 0.424347\tvalid_1's l2: 0.445748\n",
      "[550]\ttraining's l2: 0.424141\tvalid_1's l2: 0.445763\n",
      "Early stopping, best iteration is:\n",
      "[513]\ttraining's l2: 0.424294\tvalid_1's l2: 0.445741\n",
      "mean_14_2017: 12107218.81\n",
      "mean_16_2017: 4483061.54\n",
      "mean_7_2017: 2321017.35\n",
      "mean_3_2017: 122636.89\n",
      "==================================================\n",
      "Step 10\n",
      "==================================================\n"
     ]
    },
    {
     "name": "stderr",
     "output_type": "stream",
     "text": [
      "/Users/arkarmin/anaconda3/lib/python3.6/site-packages/lightgbm/basic.py:1186: UserWarning: Using categorical_feature in Dataset.\n",
      "  warnings.warn('Using categorical_feature in Dataset.')\n"
     ]
    },
    {
     "name": "stdout",
     "output_type": "stream",
     "text": [
      "Training until validation scores don't improve for 50 rounds.\n",
      "[50]\ttraining's l2: 0.497946\tvalid_1's l2: 0.674721\n",
      "[100]\ttraining's l2: 0.429068\tvalid_1's l2: 0.570367\n",
      "[150]\ttraining's l2: 0.419386\tvalid_1's l2: 0.547475\n",
      "[200]\ttraining's l2: 0.417734\tvalid_1's l2: 0.540965\n",
      "[250]\ttraining's l2: 0.417225\tvalid_1's l2: 0.538758\n",
      "[300]\ttraining's l2: 0.416908\tvalid_1's l2: 0.537851\n",
      "[350]\ttraining's l2: 0.416652\tvalid_1's l2: 0.53745\n",
      "[400]\ttraining's l2: 0.416414\tvalid_1's l2: 0.537191\n",
      "[450]\ttraining's l2: 0.41619\tvalid_1's l2: 0.537043\n",
      "[500]\ttraining's l2: 0.415974\tvalid_1's l2: 0.536992\n",
      "[550]\ttraining's l2: 0.415767\tvalid_1's l2: 0.536935\n",
      "[600]\ttraining's l2: 0.415564\tvalid_1's l2: 0.53693\n",
      "Early stopping, best iteration is:\n",
      "[564]\ttraining's l2: 0.415714\tvalid_1's l2: 0.536891\n",
      "mean_14_2017: 9060676.90\n",
      "mean_16_2017: 6050216.37\n",
      "mean_7_2017: 1064236.13\n",
      "mean_3_2017: 108180.34\n",
      "==================================================\n",
      "Step 11\n",
      "==================================================\n"
     ]
    },
    {
     "name": "stderr",
     "output_type": "stream",
     "text": [
      "/Users/arkarmin/anaconda3/lib/python3.6/site-packages/lightgbm/basic.py:1186: UserWarning: Using categorical_feature in Dataset.\n",
      "  warnings.warn('Using categorical_feature in Dataset.')\n"
     ]
    },
    {
     "name": "stdout",
     "output_type": "stream",
     "text": [
      "Training until validation scores don't improve for 50 rounds.\n",
      "[50]\ttraining's l2: 0.546371\tvalid_1's l2: 0.589764\n",
      "[100]\ttraining's l2: 0.465891\tvalid_1's l2: 0.491757\n",
      "[150]\ttraining's l2: 0.454557\tvalid_1's l2: 0.473985\n",
      "[200]\ttraining's l2: 0.452608\tvalid_1's l2: 0.469844\n",
      "[250]\ttraining's l2: 0.452007\tvalid_1's l2: 0.468629\n",
      "[300]\ttraining's l2: 0.451646\tvalid_1's l2: 0.468243\n",
      "[350]\ttraining's l2: 0.451353\tvalid_1's l2: 0.468075\n",
      "[400]\ttraining's l2: 0.451088\tvalid_1's l2: 0.467986\n",
      "[450]\ttraining's l2: 0.450836\tvalid_1's l2: 0.467951\n",
      "[500]\ttraining's l2: 0.450602\tvalid_1's l2: 0.467945\n",
      "Early stopping, best iteration is:\n",
      "[492]\ttraining's l2: 0.450637\tvalid_1's l2: 0.467936\n",
      "mean_16_2017: 9462939.16\n",
      "mean_14_2017: 8744602.28\n",
      "mean_7_2017: 683615.88\n",
      "mean_3_2017: 121536.15\n",
      "==================================================\n",
      "Step 12\n",
      "==================================================\n"
     ]
    },
    {
     "name": "stderr",
     "output_type": "stream",
     "text": [
      "/Users/arkarmin/anaconda3/lib/python3.6/site-packages/lightgbm/basic.py:1186: UserWarning: Using categorical_feature in Dataset.\n",
      "  warnings.warn('Using categorical_feature in Dataset.')\n"
     ]
    },
    {
     "name": "stdout",
     "output_type": "stream",
     "text": [
      "Training until validation scores don't improve for 50 rounds.\n",
      "[50]\ttraining's l2: 0.567054\tvalid_1's l2: 0.535253\n",
      "[100]\ttraining's l2: 0.474947\tvalid_1's l2: 0.476747\n",
      "[150]\ttraining's l2: 0.462016\tvalid_1's l2: 0.474724\n",
      "Early stopping, best iteration is:\n",
      "[128]\ttraining's l2: 0.46497\tvalid_1's l2: 0.474308\n",
      "mean_16_2017: 17361822.42\n",
      "mean_14_2017: 3390148.20\n",
      "mean_3_2017: 524462.36\n",
      "mean_7_2017: 205392.81\n",
      "==================================================\n",
      "Step 13\n",
      "==================================================\n"
     ]
    },
    {
     "name": "stderr",
     "output_type": "stream",
     "text": [
      "/Users/arkarmin/anaconda3/lib/python3.6/site-packages/lightgbm/basic.py:1186: UserWarning: Using categorical_feature in Dataset.\n",
      "  warnings.warn('Using categorical_feature in Dataset.')\n"
     ]
    },
    {
     "name": "stdout",
     "output_type": "stream",
     "text": [
      "Training until validation scores don't improve for 50 rounds.\n",
      "[50]\ttraining's l2: 0.598509\tvalid_1's l2: 0.555177\n",
      "[100]\ttraining's l2: 0.498834\tvalid_1's l2: 0.48316\n",
      "[150]\ttraining's l2: 0.484125\tvalid_1's l2: 0.47638\n",
      "[200]\ttraining's l2: 0.481281\tvalid_1's l2: 0.47602\n",
      "[250]\ttraining's l2: 0.480306\tvalid_1's l2: 0.475944\n",
      "[300]\ttraining's l2: 0.479792\tvalid_1's l2: 0.475775\n",
      "[350]\ttraining's l2: 0.479394\tvalid_1's l2: 0.475639\n",
      "[400]\ttraining's l2: 0.479071\tvalid_1's l2: 0.475542\n",
      "[450]\ttraining's l2: 0.478758\tvalid_1's l2: 0.475373\n",
      "[500]\ttraining's l2: 0.478474\tvalid_1's l2: 0.47527\n",
      "[550]\ttraining's l2: 0.478214\tvalid_1's l2: 0.475184\n",
      "[600]\ttraining's l2: 0.477973\tvalid_1's l2: 0.475156\n",
      "[650]\ttraining's l2: 0.477737\tvalid_1's l2: 0.475105\n",
      "[700]\ttraining's l2: 0.477518\tvalid_1's l2: 0.475061\n",
      "Early stopping, best iteration is:\n",
      "[690]\ttraining's l2: 0.477559\tvalid_1's l2: 0.475042\n",
      "mean_16_2017: 17897166.47\n",
      "mean_14_2017: 3028807.72\n",
      "mean_3_2017: 2262064.54\n",
      "mean_7_2017: 118613.21\n",
      "==================================================\n",
      "Step 14\n",
      "==================================================\n"
     ]
    },
    {
     "name": "stderr",
     "output_type": "stream",
     "text": [
      "/Users/arkarmin/anaconda3/lib/python3.6/site-packages/lightgbm/basic.py:1186: UserWarning: Using categorical_feature in Dataset.\n",
      "  warnings.warn('Using categorical_feature in Dataset.')\n"
     ]
    },
    {
     "name": "stdout",
     "output_type": "stream",
     "text": [
      "Training until validation scores don't improve for 50 rounds.\n",
      "[50]\ttraining's l2: 0.543072\tvalid_1's l2: 0.611643\n",
      "[100]\ttraining's l2: 0.463885\tvalid_1's l2: 0.517841\n",
      "[150]\ttraining's l2: 0.452618\tvalid_1's l2: 0.500924\n",
      "[200]\ttraining's l2: 0.450613\tvalid_1's l2: 0.496807\n",
      "[250]\ttraining's l2: 0.44999\tvalid_1's l2: 0.495556\n",
      "[300]\ttraining's l2: 0.449629\tvalid_1's l2: 0.495117\n",
      "[350]\ttraining's l2: 0.449325\tvalid_1's l2: 0.494891\n",
      "[400]\ttraining's l2: 0.449055\tvalid_1's l2: 0.49477\n",
      "[450]\ttraining's l2: 0.44879\tvalid_1's l2: 0.494665\n",
      "[500]\ttraining's l2: 0.448542\tvalid_1's l2: 0.494612\n",
      "[550]\ttraining's l2: 0.448309\tvalid_1's l2: 0.49454\n",
      "[600]\ttraining's l2: 0.448088\tvalid_1's l2: 0.494503\n",
      "[650]\ttraining's l2: 0.447875\tvalid_1's l2: 0.494454\n",
      "[700]\ttraining's l2: 0.447676\tvalid_1's l2: 0.49442\n",
      "[750]\ttraining's l2: 0.447487\tvalid_1's l2: 0.494396\n",
      "Early stopping, best iteration is:\n",
      "[730]\ttraining's l2: 0.44756\tvalid_1's l2: 0.494378\n",
      "mean_16_2017: 15180815.65\n",
      "mean_14_2017: 2931841.63\n",
      "mean_7_2017: 356643.70\n",
      "mean_3_2017: 269057.74\n",
      "==================================================\n",
      "Step 15\n",
      "==================================================\n"
     ]
    },
    {
     "name": "stderr",
     "output_type": "stream",
     "text": [
      "/Users/arkarmin/anaconda3/lib/python3.6/site-packages/lightgbm/basic.py:1186: UserWarning: Using categorical_feature in Dataset.\n",
      "  warnings.warn('Using categorical_feature in Dataset.')\n"
     ]
    },
    {
     "name": "stdout",
     "output_type": "stream",
     "text": [
      "Training until validation scores don't improve for 50 rounds.\n",
      "[50]\ttraining's l2: 0.537159\tvalid_1's l2: 0.700827\n",
      "[100]\ttraining's l2: 0.4635\tvalid_1's l2: 0.596536\n",
      "[150]\ttraining's l2: 0.45312\tvalid_1's l2: 0.574926\n",
      "[200]\ttraining's l2: 0.451327\tvalid_1's l2: 0.569131\n",
      "[250]\ttraining's l2: 0.450767\tvalid_1's l2: 0.567222\n",
      "[300]\ttraining's l2: 0.450424\tvalid_1's l2: 0.566455\n",
      "[350]\ttraining's l2: 0.450145\tvalid_1's l2: 0.566142\n",
      "[400]\ttraining's l2: 0.449883\tvalid_1's l2: 0.565936\n",
      "[450]\ttraining's l2: 0.449638\tvalid_1's l2: 0.565838\n",
      "[500]\ttraining's l2: 0.449398\tvalid_1's l2: 0.565756\n",
      "[550]\ttraining's l2: 0.449164\tvalid_1's l2: 0.565675\n",
      "[600]\ttraining's l2: 0.448937\tvalid_1's l2: 0.565613\n",
      "[650]\ttraining's l2: 0.448718\tvalid_1's l2: 0.565506\n",
      "[700]\ttraining's l2: 0.448507\tvalid_1's l2: 0.565434\n",
      "[750]\ttraining's l2: 0.448301\tvalid_1's l2: 0.565451\n",
      "Early stopping, best iteration is:\n",
      "[712]\ttraining's l2: 0.448458\tvalid_1's l2: 0.565419\n",
      "mean_16_2017: 14109061.89\n",
      "mean_14_2017: 2736958.14\n",
      "mean_7_2017: 472823.28\n",
      "mean_3_2017: 136700.96\n",
      "==================================================\n",
      "Step 16\n",
      "==================================================\n"
     ]
    },
    {
     "name": "stderr",
     "output_type": "stream",
     "text": [
      "/Users/arkarmin/anaconda3/lib/python3.6/site-packages/lightgbm/basic.py:1186: UserWarning: Using categorical_feature in Dataset.\n",
      "  warnings.warn('Using categorical_feature in Dataset.')\n"
     ]
    },
    {
     "name": "stdout",
     "output_type": "stream",
     "text": [
      "Training until validation scores don't improve for 50 rounds.\n",
      "[50]\ttraining's l2: 0.54421\tvalid_1's l2: 0.552233\n",
      "[100]\ttraining's l2: 0.466982\tvalid_1's l2: 0.474582\n",
      "[150]\ttraining's l2: 0.45608\tvalid_1's l2: 0.463594\n",
      "[200]\ttraining's l2: 0.454199\tvalid_1's l2: 0.4619\n",
      "[250]\ttraining's l2: 0.453606\tvalid_1's l2: 0.461543\n",
      "[300]\ttraining's l2: 0.453242\tvalid_1's l2: 0.461429\n",
      "[350]\ttraining's l2: 0.452952\tvalid_1's l2: 0.461393\n",
      "[400]\ttraining's l2: 0.452687\tvalid_1's l2: 0.461351\n",
      "[450]\ttraining's l2: 0.452441\tvalid_1's l2: 0.461326\n",
      "[500]\ttraining's l2: 0.452195\tvalid_1's l2: 0.461313\n",
      "[550]\ttraining's l2: 0.451963\tvalid_1's l2: 0.461294\n",
      "[600]\ttraining's l2: 0.451737\tvalid_1's l2: 0.461281\n",
      "[650]\ttraining's l2: 0.45153\tvalid_1's l2: 0.461257\n",
      "Early stopping, best iteration is:\n",
      "[649]\ttraining's l2: 0.451535\tvalid_1's l2: 0.461253\n",
      "mean_16_2017: 14740615.48\n",
      "mean_14_2017: 3069550.53\n",
      "mean_7_2017: 360494.40\n",
      "mean_3_2017: 121108.33\n",
      "Validation mse: 0.4620377217114561\n"
     ]
    }
   ],
   "source": [
    "print(\"Training and predicting models...\")\n",
    "params = {\n",
    "    'num_leaves': 80,\n",
    "    'objective': 'regression',\n",
    "    'min_data_in_leaf': 200,\n",
    "    'learning_rate': 0.02,\n",
    "    'feature_fraction': 0.8,\n",
    "    'bagging_fraction': 0.7,\n",
    "    'bagging_freq': 1,\n",
    "    'metric': 'l2',\n",
    "    'num_threads': 16\n",
    "}\n",
    "\n",
    "MAX_ROUNDS = 5000\n",
    "val_pred = []\n",
    "test_pred = []\n",
    "cate_vars = []\n",
    "for i in range(16):\n",
    "    print(\"=\" * 50)\n",
    "    print(\"Step %d\" % (i+1))\n",
    "    print(\"=\" * 50)\n",
    "    dtrain = lgb.Dataset(\n",
    "        X_train, label=y_train[:, i],\n",
    "        categorical_feature=cate_vars,\n",
    "        weight=pd.concat([items[\"perishable\"]] * 9) * 0.25 + 1\n",
    "    )\n",
    "    \n",
    "    dval = lgb.Dataset(\n",
    "        X_val, label=y_val[:, i], reference=dtrain,\n",
    "        categorical_feature=cate_vars,\n",
    "        weight=items[\"perishable\"] * 0.25 + 1\n",
    "    )\n",
    "    \n",
    "    bst = lgb.train(\n",
    "        params, dtrain, num_boost_round=MAX_ROUNDS,\n",
    "        valid_sets=[dtrain, dval], early_stopping_rounds=50, verbose_eval=50\n",
    "    )\n",
    "    \n",
    "    print(\"\\n\".join((\"%s: %.2f\" % x) for x in sorted(\n",
    "        zip(X_train.columns, bst.feature_importance(\"gain\")),\n",
    "        key=lambda x: x[1], reverse=True\n",
    "    )))\n",
    "    val_pred.append(bst.predict(\n",
    "        X_val, num_iteration=bst.best_iteration or MAX_ROUNDS))\n",
    "    test_pred.append(bst.predict(\n",
    "        X_test, num_iteration=bst.best_iteration or MAX_ROUNDS))\n",
    "\n",
    "print(\"Validation mse:\", mean_squared_error(\n",
    "    y_val, np.array(val_pred).transpose()))"
   ]
  },
  {
   "cell_type": "code",
   "execution_count": 18,
   "metadata": {},
   "outputs": [
    {
     "name": "stdout",
     "output_type": "stream",
     "text": [
      "Making submission...\n"
     ]
    }
   ],
   "source": [
    "print(\"Making submission...\")\n",
    "y_test = np.array(test_pred).transpose()\n",
    "df_preds = pd.DataFrame(\n",
    "    y_test, index=df_train.index,\n",
    "    columns=pd.date_range(\"2017-08-16\", periods=16)\n",
    ").stack().to_frame(\"unit_sales\")\n",
    "df_preds.index.set_names([\"store_nbr\", \"item_nbr\", \"date\"], inplace=True)\n",
    "\n",
    "submission = df_test[[\"id\"]].join(df_preds, how=\"left\").fillna(0)\n",
    "submission[\"unit_sales\"] = np.clip(np.expm1(submission[\"unit_sales\"]), 0, 1000)\n",
    "submission.to_csv('modified_weight.csv', float_format='%.4f', index=None)"
   ]
  }
 ],
 "metadata": {
  "kernelspec": {
   "display_name": "Python 3",
   "language": "python",
   "name": "python3"
  },
  "language_info": {
   "codemirror_mode": {
    "name": "ipython",
    "version": 3
   },
   "file_extension": ".py",
   "mimetype": "text/x-python",
   "name": "python",
   "nbconvert_exporter": "python",
   "pygments_lexer": "ipython3",
   "version": "3.6.0"
  }
 },
 "nbformat": 4,
 "nbformat_minor": 2
}
